{
  "cells": [
    {
      "cell_type": "code",
      "execution_count": null,
      "id": "d72d2bbc-e810-4cab-ab10-a042638bfaa8",
      "metadata": {
        "id": "d72d2bbc-e810-4cab-ab10-a042638bfaa8"
      },
      "outputs": [],
      "source": [
        "import numpy as np\n",
        "import pandas as pd\n",
        "import torch\n",
        "import torch.nn as nn\n",
        "import time\n",
        "from collections import defaultdict\n",
        "from scipy.spatial import distance\n",
        "import pickle\n",
        "from tqdm import tqdm\n",
        "from sklearn.model_selection import train_test_split\n",
        "import ast\n",
        "import matplotlib.pyplot as plt"
      ]
    },
    {
      "cell_type": "code",
      "source": [
        "from google.colab import drive\n",
        "drive.mount('/content/drive')"
      ],
      "metadata": {
        "colab": {
          "base_uri": "https://localhost:8080/"
        },
        "id": "f0S8tt4dnYQj",
        "outputId": "da615cc6-2194-4b10-803b-41bb2ab638eb"
      },
      "id": "f0S8tt4dnYQj",
      "execution_count": null,
      "outputs": [
        {
          "output_type": "stream",
          "name": "stdout",
          "text": [
            "Mounted at /content/drive\n"
          ]
        }
      ]
    },
    {
      "cell_type": "code",
      "source": [
        "cd /content/drive/MyDrive/6240_project/project_data/"
      ],
      "metadata": {
        "colab": {
          "base_uri": "https://localhost:8080/"
        },
        "id": "mMofIl-qngqP",
        "outputId": "b6064a8f-56cd-4cab-ec8b-fd2d222c8805"
      },
      "id": "mMofIl-qngqP",
      "execution_count": null,
      "outputs": [
        {
          "output_type": "stream",
          "name": "stdout",
          "text": [
            "/content/drive/MyDrive/6240_project/project_data\n"
          ]
        }
      ]
    },
    {
      "cell_type": "code",
      "source": [
        "df = pd.read_csv('/content/drive/MyDrive/6240_project/project_data/interactions_genres.csv')"
      ],
      "metadata": {
        "id": "oDF21CWYUSgO"
      },
      "id": "oDF21CWYUSgO",
      "execution_count": null,
      "outputs": []
    },
    {
      "cell_type": "code",
      "source": [
        "e = dict(zip(df['bid'],df['genres']))\n",
        "book_g = pd.DataFrame()\n",
        "book_g['bid'] = list(e.keys())\n",
        "book_g['genres'] = list(e.values())\n",
        "book_g.set_index('bid',inplace=True)"
      ],
      "metadata": {
        "id": "lLJIebA_qBWs"
      },
      "id": "lLJIebA_qBWs",
      "execution_count": null,
      "outputs": []
    },
    {
      "cell_type": "code",
      "source": [
        "book_g['genres'] = book_g['genres'].apply(lambda x : ast.literal_eval(x) )"
      ],
      "metadata": {
        "id": "_amTvYLXhj0R"
      },
      "id": "_amTvYLXhj0R",
      "execution_count": null,
      "outputs": []
    },
    {
      "cell_type": "code",
      "source": [
        "train_data, test_data = train_test_split(df,test_size=0.2)"
      ],
      "metadata": {
        "id": "rCx1G3C6srSD"
      },
      "id": "rCx1G3C6srSD",
      "execution_count": null,
      "outputs": []
    },
    {
      "cell_type": "code",
      "source": [
        "train_data.reset_index(drop=True,inplace=True)\n",
        "test_data.reset_index(drop=True,inplace=True)"
      ],
      "metadata": {
        "id": "U404RHSiuE3A"
      },
      "id": "U404RHSiuE3A",
      "execution_count": null,
      "outputs": []
    },
    {
      "cell_type": "code",
      "execution_count": null,
      "id": "de4308d9-e656-4b1f-8cb9-64e7692f39aa",
      "metadata": {
        "id": "de4308d9-e656-4b1f-8cb9-64e7692f39aa"
      },
      "outputs": [],
      "source": [
        "user_indices = train_data['uid']"
      ]
    },
    {
      "cell_type": "code",
      "source": [
        "item_indices = train_data['bid']"
      ],
      "metadata": {
        "id": "9rJzlCQBVHBn"
      },
      "id": "9rJzlCQBVHBn",
      "execution_count": null,
      "outputs": []
    },
    {
      "cell_type": "code",
      "source": [
        "ratings = train_data['rating']"
      ],
      "metadata": {
        "id": "QvkklPvPYuKW"
      },
      "id": "QvkklPvPYuKW",
      "execution_count": null,
      "outputs": []
    },
    {
      "cell_type": "code",
      "source": [
        "test_users = torch.LongTensor(test_data['uid'])\n",
        "test_items = torch.LongTensor(test_data['bid'])\n",
        "test_ratings = torch.LongTensor(test_data['rating'])"
      ],
      "metadata": {
        "id": "AhsysdyNs3pd"
      },
      "id": "AhsysdyNs3pd",
      "execution_count": null,
      "outputs": []
    },
    {
      "cell_type": "code",
      "source": [
        "from torch.utils.data import DataLoader, Dataset\n",
        "class UserItemRatingDataset(Dataset):\n",
        "    \"\"\"Wrapper, convert <user, item, rating> Tensor into Pytorch Dataset\"\"\"\n",
        "    def __init__(self, user_tensor, item_tensor, target_tensor):\n",
        "        \"\"\"\n",
        "        args:\n",
        "            target_tensor: torch.Tensor, the corresponding rating for <user, item> pair\n",
        "        \"\"\"\n",
        "        self.user_tensor = user_tensor\n",
        "        self.item_tensor = item_tensor\n",
        "        self.target_tensor = target_tensor\n",
        "\n",
        "    def __getitem__(self, index):\n",
        "        return self.user_tensor[index], self.item_tensor[index], self.target_tensor[index]\n",
        "\n",
        "    def __len__(self):\n",
        "        return self.user_tensor.size(0)"
      ],
      "metadata": {
        "id": "QjyAjj5XYbHW"
      },
      "id": "QjyAjj5XYbHW",
      "execution_count": null,
      "outputs": []
    },
    {
      "cell_type": "code",
      "source": [
        "dataset = UserItemRatingDataset(user_tensor=torch.LongTensor(user_indices),\n",
        "                                        item_tensor=torch.LongTensor(item_indices),\n",
        "                                        target_tensor=torch.FloatTensor(ratings))\n",
        "data_loader = DataLoader(dataset, batch_size=256, shuffle=True)"
      ],
      "metadata": {
        "id": "mqLpy2IZYiaA"
      },
      "id": "mqLpy2IZYiaA",
      "execution_count": null,
      "outputs": []
    },
    {
      "cell_type": "code",
      "source": [
        "class MLP(torch.nn.Module):\n",
        "    def __init__(self):\n",
        "        super(MLP, self).__init__()\n",
        "        # self.config = config\n",
        "        # self.num_users = config['num_users']\n",
        "        # self.num_items = config['num_items']\n",
        "        # self.latent_dim = config['latent_dim']\n",
        "\n",
        "        self.num_users = 267821\n",
        "        self.num_items = 36182\n",
        "        self.latent_dim = 32\n",
        "\n",
        "        self.embedding_user = torch.nn.Embedding(num_embeddings=self.num_users, embedding_dim=self.latent_dim)\n",
        "        self.embedding_item = torch.nn.Embedding(num_embeddings=self.num_items, embedding_dim=self.latent_dim)\n",
        "\n",
        "        config = {}\n",
        "        config['layers'] = [74,32,16,8,8]\n",
        "        self.output = nn.Linear(8,1)\n",
        "        self.relu = nn.ReLU()\n",
        "        \n",
        "        self.fc_layers = torch.nn.ModuleList()\n",
        "        for idx, (in_size, out_size) in enumerate(zip(config['layers'][:-1], config['layers'][1:])):\n",
        "            self.fc_layers.append(torch.nn.Linear(in_size, out_size))\n",
        "\n",
        "        # self.affine_output = torch.nn.Linear(in_features=config['layers'][-1], out_features=1)\n",
        "        # self.logistic = torch.nn.Sigmoid()\n",
        "\n",
        "\n",
        "    def forward(self, user_indices, item_indices):\n",
        "        user_embedding = self.embedding_user(user_indices)\n",
        "        item_embedding = self.embedding_item(item_indices)\n",
        "        genres_emb = torch.LongTensor(np.array(list(book_g.loc[item_indices.cpu().numpy()]['genres']))).cuda()\n",
        "        # print(user_embedding.shape,item_embedding.shape,genres_emb.shape)\n",
        "        vector = torch.cat([user_embedding, item_embedding,genres_emb], dim=-1)  # the concat latent vector\n",
        "        for idx, _ in enumerate(range(len(self.fc_layers))):\n",
        "            vector = self.fc_layers[idx](vector)\n",
        "            vector = torch.nn.ReLU()(vector)\n",
        "            # vector = torch.nn.BatchNorm1d()(vector)\n",
        "            # vector = torch.nn.Dropout(p=0.5)(vector)\n",
        "        \n",
        "        # x = vector\n",
        "        x = self.output(vector)\n",
        "        output = self.relu(x)\n",
        "\n",
        "        # logits = self.affine_output(vector)\n",
        "        # rating = self.logistic(logits)\n",
        "        # return rating\n",
        "        return output\n"
      ],
      "metadata": {
        "id": "99C7xTYVOWMt"
      },
      "id": "99C7xTYVOWMt",
      "execution_count": null,
      "outputs": []
    },
    {
      "cell_type": "code",
      "source": [
        "!pip install torchinfo"
      ],
      "metadata": {
        "colab": {
          "base_uri": "https://localhost:8080/"
        },
        "id": "kveqS9l6lOtL",
        "outputId": "76ae9852-d3e9-4cd0-d6e1-87a4cdbda563"
      },
      "id": "kveqS9l6lOtL",
      "execution_count": null,
      "outputs": [
        {
          "output_type": "stream",
          "name": "stdout",
          "text": [
            "Collecting torchinfo\n",
            "  Downloading torchinfo-1.6.5-py3-none-any.whl (21 kB)\n",
            "Installing collected packages: torchinfo\n",
            "Successfully installed torchinfo-1.6.5\n"
          ]
        }
      ]
    },
    {
      "cell_type": "code",
      "execution_count": null,
      "id": "76838341-90ca-4666-846a-75534ddc2ffb",
      "metadata": {
        "colab": {
          "base_uri": "https://localhost:8080/"
        },
        "id": "76838341-90ca-4666-846a-75534ddc2ffb",
        "outputId": "bda46cc0-7864-40cc-ee1a-f018ef7e99be"
      },
      "outputs": [
        {
          "output_type": "execute_result",
          "data": {
            "text/plain": [
              "=================================================================\n",
              "Layer (type:depth-idx)                   Param #\n",
              "=================================================================\n",
              "MLP                                      --\n",
              "├─Embedding: 1-1                         8,570,272\n",
              "├─Embedding: 1-2                         1,157,824\n",
              "├─Linear: 1-3                            9\n",
              "├─ReLU: 1-4                              --\n",
              "├─ModuleList: 1-5                        --\n",
              "│    └─Linear: 2-1                       2,400\n",
              "│    └─Linear: 2-2                       528\n",
              "│    └─Linear: 2-3                       136\n",
              "│    └─Linear: 2-4                       72\n",
              "=================================================================\n",
              "Total params: 9,731,241\n",
              "Trainable params: 9,731,241\n",
              "Non-trainable params: 0\n",
              "================================================================="
            ]
          },
          "metadata": {},
          "execution_count": 15
        }
      ],
      "source": [
        "MLP_model = MLP()\n",
        "# MLP_model.cuda()\n",
        "from torchinfo import summary \n",
        "summary(MLP_model)"
      ]
    },
    {
      "cell_type": "code",
      "source": [
        "MAE_list = []\n",
        "MSE_list = []\n",
        "RMSE_list = []"
      ],
      "metadata": {
        "id": "Kn31MRdqDBfi"
      },
      "id": "Kn31MRdqDBfi",
      "execution_count": null,
      "outputs": []
    },
    {
      "cell_type": "code",
      "source": [
        "assert torch.cuda.is_available(), 'CUDA is not available'\n",
        "torch.cuda.set_device(0)"
      ],
      "metadata": {
        "id": "GsSDP3pjf23p"
      },
      "id": "GsSDP3pjf23p",
      "execution_count": null,
      "outputs": []
    },
    {
      "cell_type": "code",
      "execution_count": null,
      "id": "46a19405-e51f-4e57-b8f5-c747d0c5d08c",
      "metadata": {
        "id": "46a19405-e51f-4e57-b8f5-c747d0c5d08c"
      },
      "outputs": [],
      "source": [
        "def MLP_train(data_loader,MLP_model,test_users,test_items,test_ratings,epochs=15):\n",
        "    \"\"\"\n",
        "    Arguments: \n",
        "    training_data (str-type numpy.array): the training data containing user_id, movie_id, and normalized rating (0-1) information.\n",
        "    user_emb and item_emb (dictionaries of numpy.array): pre-trained embeddings of users and items. \n",
        "    - The keys are user_id (string) and item_id (string), and the values are the corresponding embeddings (numpy.array; dim=32) of user_id and item_id, respectively.\n",
        "    MLP_model (MLP class): the untrained MLP model.\n",
        "    epochs (int): number of iterations required for updating the MLP model.\n",
        "\n",
        "    Returns:\n",
        "    MLP_model (MLP class): the MLP model trained with given training data and pre-trained embeddings.\n",
        "\n",
        "    Steps for the first code block:\n",
        "    1. for each training example, retrieve pre-trained embeddings for a user u and item i.\n",
        "    2. concatenate those embeddings by np.concatenate((user_emb_of_u,item_emb_of_i)) and append it to a list.\n",
        "    3. convert a list of concatenated embeddings to a PyTorch FloatTensor by torch.FloatTensor(np.array(list)).\n",
        "    \"\"\"\n",
        "    torch.manual_seed(0)\n",
        "    np.random.seed(0)\n",
        "\n",
        "    # input_data = torch.FloatTensor(np.array(l))\n",
        "\n",
        "  #################################\n",
        "  \n",
        "    criterion = nn.MSELoss()\n",
        "    optimizer = torch.optim.Adam(MLP_model.parameters(),weight_decay = 0.001)\n",
        "\n",
        "    for epoch in tqdm(range(epochs)):\n",
        "        \"\"\"  \n",
        "    Steps for the second code block:\n",
        "    1. set the gradients to zero before backpropragation by optimizer.zero_grad().\n",
        "    2. call the prediction function of the MLP model by MLP_model(input_data).flatten() and obtain the prediction result for the input data, \n",
        "       where the input data is a PyTorch FloatTensor from Step 3 of the previous code block.\n",
        "    3. obtain the ground-truth rating values from training_data (in torch.FloatTensor format; use torch.FloatTensor(np.array) for type conversion).\n",
        "    4. compute the loss by loss=criterion(prediction,ground_truth).\n",
        "    5. perform backpropragation by loss.backward().\n",
        "    6. update the model parameters by optimizer.step().\n",
        "    7. compute the differences between the prediction and ground_truth by (prediction-ground_truth).detach().numpy().\n",
        "    8. compute and print training RMSE using the differences for every 10 epochs (epoch 0, epoch 10, ..., epoch 190).\n",
        "        - Don't use loss in Step 4 to derive training RMSE \n",
        "        \"\"\"\n",
        "        optimizer.zero_grad()\n",
        "\n",
        "        for batch_id, batch in enumerate(data_loader):\n",
        "            # assert isinstance(batch[0], torch.LongTensor)\n",
        "            # print(batch_id)\n",
        "            user, item, rating = batch[0], batch[1], batch[2]\n",
        "            user, item, rating = user.cuda(), item.cuda(), rating.cuda()\n",
        "            # print(user.shape,rating.shape,item.shape)\n",
        "            prediction = MLP_model(user,item).flatten()\n",
        "            # ground_truth = torch.FloatTensor(training_data[:,2:].astype(np.float32).reshape(len(training_data)))\n",
        "            ground_truth = rating.flatten()\n",
        "\n",
        "            # print(prediction.shape,ground_truth.shape)\n",
        "            \n",
        "            loss = criterion(prediction,ground_truth)\n",
        "            loss.backward()\n",
        "            optimizer.step()\n",
        "\n",
        "            diff = (prediction-ground_truth).detach().cpu().numpy()\n",
        "            rmse = (np.mean(diff**2))**0.5\n",
        "\n",
        "            abs_diff = np.absolute(diff)\n",
        "            mae = np.mean(abs_diff)\n",
        "            if batch_id % 500 == 0:\n",
        "            # # if epoch % 10 == 0:\n",
        "              print(\"rmse:\", rmse, \"mse:\",loss, \"mae:\",mae)\n",
        "              # MAE_list.append(mae)\n",
        "              # MSE_list.append(loss)\n",
        "              # RMSE_list.append(rmse)\n",
        "      \n",
        "        test_users, test_items, test_ratings = test_users.cuda(), test_items.cuda(), test_ratings.cuda()\n",
        "        test_preds = MLP_model(test_users,test_items).flatten()\n",
        "\n",
        "        diff = (test_preds-test_ratings).detach().cpu().numpy()\n",
        "        rmse = (np.mean(diff**2))**0.5\n",
        "\n",
        "        abs_diff = np.absolute(diff)\n",
        "        mae = np.mean(abs_diff)\n",
        "        \n",
        "        print(\"test_metrics........\",\"rmse:\", rmse, \"mse:\",loss, \"mae:\",mae)\n",
        "        MAE_list.append(mae)\n",
        "        MSE_list.append(loss)\n",
        "        RMSE_list.append(rmse)\n",
        "\n",
        "\n",
        "            \n",
        "    #################################\n",
        "    return MLP_model"
      ]
    },
    {
      "cell_type": "code",
      "execution_count": null,
      "id": "2ac7c76b-63bd-4310-8d16-111ac5e650d5",
      "metadata": {
        "colab": {
          "base_uri": "https://localhost:8080/"
        },
        "id": "2ac7c76b-63bd-4310-8d16-111ac5e650d5",
        "outputId": "2a98a71b-be8d-426b-d239-735fa05d14be"
      },
      "outputs": [
        {
          "output_type": "stream",
          "name": "stderr",
          "text": [
            "\r  0%|          | 0/15 [00:00<?, ?it/s]"
          ]
        },
        {
          "output_type": "stream",
          "name": "stdout",
          "text": [
            "rmse: 3.9850909618301134 mse: tensor(15.8809, device='cuda:0', grad_fn=<MseLossBackward0>) mae: 3.687871\n",
            "rmse: 4.160609432842878 mse: tensor(17.3107, device='cuda:0', grad_fn=<MseLossBackward0>) mae: 4.039714\n",
            "rmse: 3.2716146779087554 mse: tensor(10.7035, device='cuda:0', grad_fn=<MseLossBackward0>) mae: 3.1105523\n",
            "rmse: 2.240801233147061 mse: tensor(5.0212, device='cuda:0', grad_fn=<MseLossBackward0>) mae: 2.0489876\n",
            "rmse: 1.6376016279526497 mse: tensor(2.6817, device='cuda:0', grad_fn=<MseLossBackward0>) mae: 1.4168104\n",
            "rmse: 1.1766266682466187 mse: tensor(1.3845, device='cuda:0', grad_fn=<MseLossBackward0>) mae: 0.9758432\n",
            "rmse: 0.962838718957439 mse: tensor(0.9271, device='cuda:0', grad_fn=<MseLossBackward0>) mae: 0.7776071\n",
            "rmse: 1.296094222755645 mse: tensor(1.6799, device='cuda:0', grad_fn=<MseLossBackward0>) mae: 0.9658669\n"
          ]
        },
        {
          "output_type": "stream",
          "name": "stderr",
          "text": [
            "\r  7%|▋         | 1/15 [00:36<08:32, 36.61s/it]"
          ]
        },
        {
          "output_type": "stream",
          "name": "stdout",
          "text": [
            "test_metrics........ rmse: 2.6943798275919586 mse: tensor(6.8708, device='cuda:0', grad_fn=<MseLossBackward0>) mae: 2.0804443\n",
            "rmse: 2.6161001195501394 mse: tensor(6.8440, device='cuda:0', grad_fn=<MseLossBackward0>) mae: 2.0556607\n",
            "rmse: 1.454933190008079 mse: tensor(2.1168, device='cuda:0', grad_fn=<MseLossBackward0>) mae: 1.0610085\n",
            "rmse: 1.3129144649957283 mse: tensor(1.7237, device='cuda:0', grad_fn=<MseLossBackward0>) mae: 0.9256372\n",
            "rmse: 1.0592699882200598 mse: tensor(1.1221, device='cuda:0', grad_fn=<MseLossBackward0>) mae: 0.8191689\n",
            "rmse: 0.9059569115087133 mse: tensor(0.8208, device='cuda:0', grad_fn=<MseLossBackward0>) mae: 0.6988278\n",
            "rmse: 1.0782722704272625 mse: tensor(1.1627, device='cuda:0', grad_fn=<MseLossBackward0>) mae: 0.94814575\n",
            "rmse: 1.3141359397151984 mse: tensor(1.7270, device='cuda:0', grad_fn=<MseLossBackward0>) mae: 1.1443872\n",
            "rmse: 1.5267249997973125 mse: tensor(2.3309, device='cuda:0', grad_fn=<MseLossBackward0>) mae: 1.3228961\n"
          ]
        },
        {
          "output_type": "stream",
          "name": "stderr",
          "text": [
            "\r 13%|█▎        | 2/15 [01:09<07:29, 34.57s/it]"
          ]
        },
        {
          "output_type": "stream",
          "name": "stdout",
          "text": [
            "test_metrics........ rmse: 1.5953249162121657 mse: tensor(2.5981, device='cuda:0', grad_fn=<MseLossBackward0>) mae: 1.403802\n",
            "rmse: 1.5409705248519598 mse: tensor(2.3746, device='cuda:0', grad_fn=<MseLossBackward0>) mae: 1.3481011\n",
            "rmse: 1.410944837042065 mse: tensor(1.9908, device='cuda:0', grad_fn=<MseLossBackward0>) mae: 1.1943624\n",
            "rmse: 1.062162065058358 mse: tensor(1.1282, device='cuda:0', grad_fn=<MseLossBackward0>) mae: 0.93098176\n",
            "rmse: 0.966561213584066 mse: tensor(0.9342, device='cuda:0', grad_fn=<MseLossBackward0>) mae: 0.74259067\n",
            "rmse: 1.0529096524712316 mse: tensor(1.1086, device='cuda:0', grad_fn=<MseLossBackward0>) mae: 0.8028778\n",
            "rmse: 1.346567438328581 mse: tensor(1.8132, device='cuda:0', grad_fn=<MseLossBackward0>) mae: 0.9707699\n",
            "rmse: 1.491982810476244 mse: tensor(2.2260, device='cuda:0', grad_fn=<MseLossBackward0>) mae: 1.1702393\n",
            "rmse: 1.4126165173165088 mse: tensor(1.9955, device='cuda:0', grad_fn=<MseLossBackward0>) mae: 0.9568968\n"
          ]
        },
        {
          "output_type": "stream",
          "name": "stderr",
          "text": [
            "\r 20%|██        | 3/15 [01:43<06:47, 33.98s/it]"
          ]
        },
        {
          "output_type": "stream",
          "name": "stdout",
          "text": [
            "test_metrics........ rmse: 1.1467516196093734 mse: tensor(1.0309, device='cuda:0', grad_fn=<MseLossBackward0>) mae: 0.878071\n",
            "rmse: 0.9995769559575429 mse: tensor(0.9992, device='cuda:0', grad_fn=<MseLossBackward0>) mae: 0.76023245\n",
            "rmse: 1.102983140334125 mse: tensor(1.2166, device='cuda:0', grad_fn=<MseLossBackward0>) mae: 0.8840738\n",
            "rmse: 1.0125750007637118 mse: tensor(1.0253, device='cuda:0', grad_fn=<MseLossBackward0>) mae: 0.8237953\n",
            "rmse: 1.0760451448180617 mse: tensor(1.1579, device='cuda:0', grad_fn=<MseLossBackward0>) mae: 0.92614603\n",
            "rmse: 1.1862026958460026 mse: tensor(1.4071, device='cuda:0', grad_fn=<MseLossBackward0>) mae: 1.0433195\n",
            "rmse: 1.0983363315230699 mse: tensor(1.2063, device='cuda:0', grad_fn=<MseLossBackward0>) mae: 0.96405804\n",
            "rmse: 0.9832013111605488 mse: tensor(0.9667, device='cuda:0', grad_fn=<MseLossBackward0>) mae: 0.77843326\n",
            "rmse: 1.0482341427011903 mse: tensor(1.0988, device='cuda:0', grad_fn=<MseLossBackward0>) mae: 0.82439405\n"
          ]
        },
        {
          "output_type": "stream",
          "name": "stderr",
          "text": [
            "\r 27%|██▋       | 4/15 [02:17<06:14, 34.07s/it]"
          ]
        },
        {
          "output_type": "stream",
          "name": "stdout",
          "text": [
            "test_metrics........ rmse: 1.1816265515206597 mse: tensor(1.4448, device='cuda:0', grad_fn=<MseLossBackward0>) mae: 0.8901719\n",
            "rmse: 1.2773949382452945 mse: tensor(1.6317, device='cuda:0', grad_fn=<MseLossBackward0>) mae: 0.9411154\n",
            "rmse: 1.0056545011888594 mse: tensor(1.0113, device='cuda:0', grad_fn=<MseLossBackward0>) mae: 0.82416284\n",
            "rmse: 1.0363004298990284 mse: tensor(1.0739, device='cuda:0', grad_fn=<MseLossBackward0>) mae: 0.8749772\n",
            "rmse: 1.1782988908168244 mse: tensor(1.3884, device='cuda:0', grad_fn=<MseLossBackward0>) mae: 1.0434651\n",
            "rmse: 1.0981798653962747 mse: tensor(1.2060, device='cuda:0', grad_fn=<MseLossBackward0>) mae: 0.97021985\n",
            "rmse: 0.9639179869524824 mse: tensor(0.9291, device='cuda:0', grad_fn=<MseLossBackward0>) mae: 0.78589654\n",
            "rmse: 1.1390585398245416 mse: tensor(1.2975, device='cuda:0', grad_fn=<MseLossBackward0>) mae: 0.89355266\n",
            "rmse: 1.0416053118120572 mse: tensor(1.0849, device='cuda:0', grad_fn=<MseLossBackward0>) mae: 0.84237623\n"
          ]
        },
        {
          "output_type": "stream",
          "name": "stderr",
          "text": [
            "\r 33%|███▎      | 5/15 [02:50<05:38, 33.82s/it]"
          ]
        },
        {
          "output_type": "stream",
          "name": "stdout",
          "text": [
            "test_metrics........ rmse: 0.9791324217198614 mse: tensor(0.8899, device='cuda:0', grad_fn=<MseLossBackward0>) mae: 0.7657892\n",
            "rmse: 0.9635474883582398 mse: tensor(0.9284, device='cuda:0', grad_fn=<MseLossBackward0>) mae: 0.72475135\n",
            "rmse: 1.0463491798890932 mse: tensor(1.0948, device='cuda:0', grad_fn=<MseLossBackward0>) mae: 0.8362876\n",
            "rmse: 1.0522032691401568 mse: tensor(1.1071, device='cuda:0', grad_fn=<MseLossBackward0>) mae: 0.8264926\n",
            "rmse: 1.0377905381385035 mse: tensor(1.0770, device='cuda:0', grad_fn=<MseLossBackward0>) mae: 0.7746204\n",
            "rmse: 0.970768609706799 mse: tensor(0.9424, device='cuda:0', grad_fn=<MseLossBackward0>) mae: 0.79434264\n",
            "rmse: 0.8918281258961134 mse: tensor(0.7954, device='cuda:0', grad_fn=<MseLossBackward0>) mae: 0.6912093\n",
            "rmse: 0.9422574449074523 mse: tensor(0.8878, device='cuda:0', grad_fn=<MseLossBackward0>) mae: 0.732622\n",
            "rmse: 1.0183155514235842 mse: tensor(1.0370, device='cuda:0', grad_fn=<MseLossBackward0>) mae: 0.8176764\n"
          ]
        },
        {
          "output_type": "stream",
          "name": "stderr",
          "text": [
            "\r 40%|████      | 6/15 [03:23<05:02, 33.63s/it]"
          ]
        },
        {
          "output_type": "stream",
          "name": "stdout",
          "text": [
            "test_metrics........ rmse: 0.9793293324079991 mse: tensor(0.9831, device='cuda:0', grad_fn=<MseLossBackward0>) mae: 0.7624251\n",
            "rmse: 0.9786037626185179 mse: tensor(0.9577, device='cuda:0', grad_fn=<MseLossBackward0>) mae: 0.7344341\n",
            "rmse: 1.0087007851394982 mse: tensor(1.0175, device='cuda:0', grad_fn=<MseLossBackward0>) mae: 0.7789206\n",
            "rmse: 0.9540981265331235 mse: tensor(0.9103, device='cuda:0', grad_fn=<MseLossBackward0>) mae: 0.74593294\n",
            "rmse: 0.9057382914760058 mse: tensor(0.8204, device='cuda:0', grad_fn=<MseLossBackward0>) mae: 0.7500336\n",
            "rmse: 0.9532401843902473 mse: tensor(0.9087, device='cuda:0', grad_fn=<MseLossBackward0>) mae: 0.756817\n",
            "rmse: 1.0000129937281426 mse: tensor(1.0000, device='cuda:0', grad_fn=<MseLossBackward0>) mae: 0.7756257\n",
            "rmse: 1.0050561160462521 mse: tensor(1.0101, device='cuda:0', grad_fn=<MseLossBackward0>) mae: 0.8300762\n",
            "rmse: 0.9724994824170302 mse: tensor(0.9458, device='cuda:0', grad_fn=<MseLossBackward0>) mae: 0.75351435\n"
          ]
        },
        {
          "output_type": "stream",
          "name": "stderr",
          "text": [
            "\r 47%|████▋     | 7/15 [03:57<04:28, 33.50s/it]"
          ]
        },
        {
          "output_type": "stream",
          "name": "stdout",
          "text": [
            "test_metrics........ rmse: 0.9799235374438406 mse: tensor(0.9920, device='cuda:0', grad_fn=<MseLossBackward0>) mae: 0.7587331\n",
            "rmse: 0.9623625818222576 mse: tensor(0.9261, device='cuda:0', grad_fn=<MseLossBackward0>) mae: 0.74480444\n",
            "rmse: 1.0056862098742945 mse: tensor(1.0114, device='cuda:0', grad_fn=<MseLossBackward0>) mae: 0.77327037\n",
            "rmse: 1.024261492339994 mse: tensor(1.0491, device='cuda:0', grad_fn=<MseLossBackward0>) mae: 0.8267973\n",
            "rmse: 0.9664378723053029 mse: tensor(0.9340, device='cuda:0', grad_fn=<MseLossBackward0>) mae: 0.7589617\n",
            "rmse: 1.0029268348304123 mse: tensor(1.0059, device='cuda:0', grad_fn=<MseLossBackward0>) mae: 0.7900748\n",
            "rmse: 1.0119307012465657 mse: tensor(1.0240, device='cuda:0', grad_fn=<MseLossBackward0>) mae: 0.82696396\n",
            "rmse: 0.9840948523651255 mse: tensor(0.9684, device='cuda:0', grad_fn=<MseLossBackward0>) mae: 0.8196289\n",
            "rmse: 0.9961525693992316 mse: tensor(0.9923, device='cuda:0', grad_fn=<MseLossBackward0>) mae: 0.7719387\n"
          ]
        },
        {
          "output_type": "stream",
          "name": "stderr",
          "text": [
            "\r 53%|█████▎    | 8/15 [04:30<03:54, 33.43s/it]"
          ]
        },
        {
          "output_type": "stream",
          "name": "stdout",
          "text": [
            "test_metrics........ rmse: 0.9794135932158999 mse: tensor(1.2502, device='cuda:0', grad_fn=<MseLossBackward0>) mae: 0.7617102\n",
            "rmse: 1.0183733799786767 mse: tensor(1.0371, device='cuda:0', grad_fn=<MseLossBackward0>) mae: 0.7758337\n",
            "rmse: 0.9942049256760066 mse: tensor(0.9884, device='cuda:0', grad_fn=<MseLossBackward0>) mae: 0.7792784\n",
            "rmse: 1.000716429613084 mse: tensor(1.0014, device='cuda:0', grad_fn=<MseLossBackward0>) mae: 0.78050536\n",
            "rmse: 0.8828297166073905 mse: tensor(0.7794, device='cuda:0', grad_fn=<MseLossBackward0>) mae: 0.6868967\n",
            "rmse: 0.9155305338486088 mse: tensor(0.8382, device='cuda:0', grad_fn=<MseLossBackward0>) mae: 0.73465204\n",
            "rmse: 1.005484857556154 mse: tensor(1.0110, device='cuda:0', grad_fn=<MseLossBackward0>) mae: 0.78531134\n",
            "rmse: 0.9467225710610244 mse: tensor(0.8963, device='cuda:0', grad_fn=<MseLossBackward0>) mae: 0.7484442\n",
            "rmse: 1.0793305443210708 mse: tensor(1.1650, device='cuda:0', grad_fn=<MseLossBackward0>) mae: 0.8577386\n"
          ]
        },
        {
          "output_type": "stream",
          "name": "stderr",
          "text": [
            "\r 60%|██████    | 9/15 [05:03<03:20, 33.34s/it]"
          ]
        },
        {
          "output_type": "stream",
          "name": "stdout",
          "text": [
            "test_metrics........ rmse: 0.9813151866374841 mse: tensor(0.7276, device='cuda:0', grad_fn=<MseLossBackward0>) mae: 0.7594071\n",
            "rmse: 0.9529732755374359 mse: tensor(0.9082, device='cuda:0', grad_fn=<MseLossBackward0>) mae: 0.7618812\n",
            "rmse: 1.0271463530875289 mse: tensor(1.0550, device='cuda:0', grad_fn=<MseLossBackward0>) mae: 0.80133593\n",
            "rmse: 1.0384496731637252 mse: tensor(1.0784, device='cuda:0', grad_fn=<MseLossBackward0>) mae: 0.83606094\n",
            "rmse: 0.9989583133118077 mse: tensor(0.9979, device='cuda:0', grad_fn=<MseLossBackward0>) mae: 0.78621817\n",
            "rmse: 1.0213254144808128 mse: tensor(1.0431, device='cuda:0', grad_fn=<MseLossBackward0>) mae: 0.82101274\n",
            "rmse: 1.0489274018824473 mse: tensor(1.1002, device='cuda:0', grad_fn=<MseLossBackward0>) mae: 0.8640112\n",
            "rmse: 1.0263890228707298 mse: tensor(1.0535, device='cuda:0', grad_fn=<MseLossBackward0>) mae: 0.85674906\n",
            "rmse: 1.0135766133435318 mse: tensor(1.0273, device='cuda:0', grad_fn=<MseLossBackward0>) mae: 0.84426165\n"
          ]
        },
        {
          "output_type": "stream",
          "name": "stderr",
          "text": [
            "\r 67%|██████▋   | 10/15 [05:36<02:46, 33.32s/it]"
          ]
        },
        {
          "output_type": "stream",
          "name": "stdout",
          "text": [
            "test_metrics........ rmse: 0.9953643222414803 mse: tensor(1.0420, device='cuda:0', grad_fn=<MseLossBackward0>) mae: 0.8132308\n",
            "rmse: 1.0504273453234854 mse: tensor(1.1034, device='cuda:0', grad_fn=<MseLossBackward0>) mae: 0.87759113\n",
            "rmse: 1.0280014659559433 mse: tensor(1.0568, device='cuda:0', grad_fn=<MseLossBackward0>) mae: 0.81684947\n",
            "rmse: 0.93345299461743 mse: tensor(0.8713, device='cuda:0', grad_fn=<MseLossBackward0>) mae: 0.69244146\n",
            "rmse: 0.9822749792133123 mse: tensor(0.9649, device='cuda:0', grad_fn=<MseLossBackward0>) mae: 0.7730112\n",
            "rmse: 0.9817922406008671 mse: tensor(0.9639, device='cuda:0', grad_fn=<MseLossBackward0>) mae: 0.7895938\n",
            "rmse: 0.9290666510691005 mse: tensor(0.8632, device='cuda:0', grad_fn=<MseLossBackward0>) mae: 0.7802771\n",
            "rmse: 0.8995074328273952 mse: tensor(0.8091, device='cuda:0', grad_fn=<MseLossBackward0>) mae: 0.7426006\n",
            "rmse: 0.9737430613396643 mse: tensor(0.9482, device='cuda:0', grad_fn=<MseLossBackward0>) mae: 0.76603985\n"
          ]
        },
        {
          "output_type": "stream",
          "name": "stderr",
          "text": [
            "\r 73%|███████▎  | 11/15 [06:10<02:13, 33.30s/it]"
          ]
        },
        {
          "output_type": "stream",
          "name": "stdout",
          "text": [
            "test_metrics........ rmse: 0.9945843199229744 mse: tensor(1.1665, device='cuda:0', grad_fn=<MseLossBackward0>) mae: 0.7988756\n",
            "rmse: 0.9513434034149608 mse: tensor(0.9051, device='cuda:0', grad_fn=<MseLossBackward0>) mae: 0.7843907\n",
            "rmse: 1.0487675995651486 mse: tensor(1.0999, device='cuda:0', grad_fn=<MseLossBackward0>) mae: 0.8563707\n",
            "rmse: 0.9843069083263106 mse: tensor(0.9689, device='cuda:0', grad_fn=<MseLossBackward0>) mae: 0.79586995\n",
            "rmse: 0.9486815891052826 mse: tensor(0.9000, device='cuda:0', grad_fn=<MseLossBackward0>) mae: 0.75618136\n",
            "rmse: 0.9223168817322868 mse: tensor(0.8507, device='cuda:0', grad_fn=<MseLossBackward0>) mae: 0.74850464\n",
            "rmse: 1.1169419452262224 mse: tensor(1.2476, device='cuda:0', grad_fn=<MseLossBackward0>) mae: 0.87649393\n",
            "rmse: 0.905510337473579 mse: tensor(0.8199, device='cuda:0', grad_fn=<MseLossBackward0>) mae: 0.7492792\n",
            "rmse: 0.9585560698747781 mse: tensor(0.9188, device='cuda:0', grad_fn=<MseLossBackward0>) mae: 0.7675297\n"
          ]
        },
        {
          "output_type": "stream",
          "name": "stderr",
          "text": [
            "\r 80%|████████  | 12/15 [06:43<01:39, 33.24s/it]"
          ]
        },
        {
          "output_type": "stream",
          "name": "stdout",
          "text": [
            "test_metrics........ rmse: 0.9825325329080234 mse: tensor(0.9690, device='cuda:0', grad_fn=<MseLossBackward0>) mae: 0.76710635\n",
            "rmse: 1.00980139545413 mse: tensor(1.0197, device='cuda:0', grad_fn=<MseLossBackward0>) mae: 0.7855694\n",
            "rmse: 0.9421621429928143 mse: tensor(0.8877, device='cuda:0', grad_fn=<MseLossBackward0>) mae: 0.77143973\n",
            "rmse: 0.9912374558683307 mse: tensor(0.9826, device='cuda:0', grad_fn=<MseLossBackward0>) mae: 0.7923703\n",
            "rmse: 1.0115236072057687 mse: tensor(1.0232, device='cuda:0', grad_fn=<MseLossBackward0>) mae: 0.82681906\n",
            "rmse: 1.0025696521449463 mse: tensor(1.0051, device='cuda:0', grad_fn=<MseLossBackward0>) mae: 0.8058925\n",
            "rmse: 1.0338885912540898 mse: tensor(1.0689, device='cuda:0', grad_fn=<MseLossBackward0>) mae: 0.85279167\n",
            "rmse: 0.9565963691266074 mse: tensor(0.9151, device='cuda:0', grad_fn=<MseLossBackward0>) mae: 0.77320635\n",
            "rmse: 1.0213474743572113 mse: tensor(1.0432, device='cuda:0', grad_fn=<MseLossBackward0>) mae: 0.8348946\n"
          ]
        },
        {
          "output_type": "stream",
          "name": "stderr",
          "text": [
            "\r 87%|████████▋ | 13/15 [07:16<01:06, 33.25s/it]"
          ]
        },
        {
          "output_type": "stream",
          "name": "stdout",
          "text": [
            "test_metrics........ rmse: 1.0072188883976003 mse: tensor(1.1568, device='cuda:0', grad_fn=<MseLossBackward0>) mae: 0.8104201\n",
            "rmse: 1.0437847474304776 mse: tensor(1.0895, device='cuda:0', grad_fn=<MseLossBackward0>) mae: 0.83461803\n",
            "rmse: 1.0145953314122027 mse: tensor(1.0294, device='cuda:0', grad_fn=<MseLossBackward0>) mae: 0.84800386\n",
            "rmse: 0.9822008555490709 mse: tensor(0.9647, device='cuda:0', grad_fn=<MseLossBackward0>) mae: 0.7792621\n",
            "rmse: 0.9700959607469543 mse: tensor(0.9411, device='cuda:0', grad_fn=<MseLossBackward0>) mae: 0.81255794\n",
            "rmse: 0.9415031161669488 mse: tensor(0.8864, device='cuda:0', grad_fn=<MseLossBackward0>) mae: 0.78826106\n",
            "rmse: 1.0335685790349662 mse: tensor(1.0683, device='cuda:0', grad_fn=<MseLossBackward0>) mae: 0.848966\n",
            "rmse: 1.016514549965591 mse: tensor(1.0333, device='cuda:0', grad_fn=<MseLossBackward0>) mae: 0.79966205\n",
            "rmse: 1.0270517608762681 mse: tensor(1.0548, device='cuda:0', grad_fn=<MseLossBackward0>) mae: 0.83422816\n"
          ]
        },
        {
          "output_type": "stream",
          "name": "stderr",
          "text": [
            "\r 93%|█████████▎| 14/15 [07:49<00:33, 33.26s/it]"
          ]
        },
        {
          "output_type": "stream",
          "name": "stdout",
          "text": [
            "test_metrics........ rmse: 0.9794792258107677 mse: tensor(0.9562, device='cuda:0', grad_fn=<MseLossBackward0>) mae: 0.7612249\n",
            "rmse: 1.0368299089759587 mse: tensor(1.0750, device='cuda:0', grad_fn=<MseLossBackward0>) mae: 0.8105261\n",
            "rmse: 0.9577686505136023 mse: tensor(0.9173, device='cuda:0', grad_fn=<MseLossBackward0>) mae: 0.74584836\n",
            "rmse: 1.0010561134547635 mse: tensor(1.0021, device='cuda:0', grad_fn=<MseLossBackward0>) mae: 0.8086383\n",
            "rmse: 0.8904976335437309 mse: tensor(0.7930, device='cuda:0', grad_fn=<MseLossBackward0>) mae: 0.6943359\n",
            "rmse: 0.970736527971561 mse: tensor(0.9423, device='cuda:0', grad_fn=<MseLossBackward0>) mae: 0.7675477\n",
            "rmse: 0.9870643209932021 mse: tensor(0.9743, device='cuda:0', grad_fn=<MseLossBackward0>) mae: 0.7513422\n",
            "rmse: 0.9810266920982749 mse: tensor(0.9624, device='cuda:0', grad_fn=<MseLossBackward0>) mae: 0.773546\n",
            "rmse: 0.9859374830726586 mse: tensor(0.9721, device='cuda:0', grad_fn=<MseLossBackward0>) mae: 0.767733\n"
          ]
        },
        {
          "output_type": "stream",
          "name": "stderr",
          "text": [
            "100%|██████████| 15/15 [08:22<00:00, 33.53s/it]"
          ]
        },
        {
          "output_type": "stream",
          "name": "stdout",
          "text": [
            "test_metrics........ rmse: 0.9818417483890669 mse: tensor(0.9515, device='cuda:0', grad_fn=<MseLossBackward0>) mae: 0.779797\n"
          ]
        },
        {
          "output_type": "stream",
          "name": "stderr",
          "text": [
            "\n"
          ]
        }
      ],
      "source": [
        "trained_MLP_model = MLP_train(data_loader,MLP_model,test_users,test_items,test_ratings)"
      ]
    },
    {
      "cell_type": "code",
      "source": [
        "\n",
        "MSE_list = [c.cpu().detach().numpy() for c in MSE_list]\n",
        "plt.figure(figsize=(10,10))\n",
        "x = list(range(1,(len(MAE_list)+1))) \n",
        "plt.plot(x,MAE_list,label='MAE')\n",
        "plt.plot(x,MSE_list,label='MSE Loss')\n",
        "plt.plot(x,RMSE_list,label='RMSE')\n",
        "plt.legend()\n",
        "# plt.show()\n",
        "plt.savefig('ncf_32_genres_1.png')"
      ],
      "metadata": {
        "id": "7k9-Mdomgk2s",
        "colab": {
          "base_uri": "https://localhost:8080/",
          "height": 592
        },
        "outputId": "c6e0f703-df00-4c33-f711-2034c9305f54"
      },
      "id": "7k9-Mdomgk2s",
      "execution_count": null,
      "outputs": [
        {
          "output_type": "display_data",
          "data": {
            "text/plain": [
              "<Figure size 720x720 with 1 Axes>"
            ],
            "image/png": "[encoded data removed]"
          },
          "metadata": {
            "needs_background": "light"
          }
        }
      ]
    },
    {
      "cell_type": "code",
      "source": [
        "torch.save(trained_MLP_model,'/content/drive/MyDrive/6240_project/project_data/ncf_model_32_genres_1')"
      ],
      "metadata": {
        "id": "3vkPiXZhv7tE"
      },
      "id": "3vkPiXZhv7tE",
      "execution_count": null,
      "outputs": []
    },
    {
      "cell_type": "code",
      "source": [
        "# 64 test_metrics........ rmse: 0.9887338438775779 mse: tensor(0.9542, device='cuda:0', grad_fn=<MseLossBackward0>) mae: 0.79190356\n",
        "# 32  test_metrics........ rmse: 0.9818417483890669 mse: tensor(0.9515, device='cuda:0', grad_fn=<MseLossBackward0>) mae: 0.779797"
      ],
      "metadata": {
        "id": "p3SsZ6Wlie-w"
      },
      "id": "p3SsZ6Wlie-w",
      "execution_count": null,
      "outputs": []
    }
  ],
  "metadata": {
    "kernelspec": {
      "display_name": "Python 3",
      "language": "python",
      "name": "python3"
    },
    "language_info": {
      "codemirror_mode": {
        "name": "ipython",
        "version": 3
      },
      "file_extension": ".py",
      "mimetype": "text/x-python",
      "name": "python",
      "nbconvert_exporter": "python",
      "pygments_lexer": "ipython3",
      "version": "3.8.8"
    },
    "colab": {
      "name": "neumf_with_genres.ipynb",
      "provenance": [],
      "collapsed_sections": []
    },
    "accelerator": "GPU"
  },
  "nbformat": 4,
  "nbformat_minor": 5
}
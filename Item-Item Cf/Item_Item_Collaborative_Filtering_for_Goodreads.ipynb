{
  "nbformat": 4,
  "nbformat_minor": 0,
  "metadata": {
    "colab": {
      "name": "Item-Item Collaborative Filtering for Goodreads",
      "provenance": [],
      "collapsed_sections": []
    },
    "kernelspec": {
      "name": "python3",
      "display_name": "Python 3"
    },
    "language_info": {
      "name": "python"
    }
  },
  "cells": [
    {
      "cell_type": "code",
      "execution_count": 1,
      "metadata": {
        "id": "us7yJtVaoxer"
      },
      "outputs": [],
      "source": [
        "import gzip\n",
        "import json\n",
        "import re\n",
        "import os\n",
        "import sys\n",
        "import numpy as np\n",
        "import pandas as pd\n",
        "from scipy.spatial import distance"
      ]
    },
    {
      "cell_type": "code",
      "source": [
        "from google.colab import drive\n",
        "drive.mount('/content/drive')"
      ],
      "metadata": {
        "colab": {
          "base_uri": "https://localhost:8080/"
        },
        "id": "DfxinawHo1Rl",
        "outputId": "3b810cc7-9bbc-4f05-f13c-36ed881ca828"
      },
      "execution_count": 2,
      "outputs": [
        {
          "output_type": "stream",
          "name": "stdout",
          "text": [
            "Mounted at /content/drive\n"
          ]
        }
      ]
    },
    {
      "cell_type": "code",
      "source": [
        "path = 'drive/MyDrive/CSE 6240/Project'\n",
        "%cd $path"
      ],
      "metadata": {
        "colab": {
          "base_uri": "https://localhost:8080/"
        },
        "id": "zCV1tc0to25J",
        "outputId": "27cc3f23-8097-4575-9b20-e13fd8db7aa5"
      },
      "execution_count": 3,
      "outputs": [
        {
          "output_type": "stream",
          "name": "stdout",
          "text": [
            "/content/drive/MyDrive/CSE 6240/Project\n"
          ]
        }
      ]
    },
    {
      "cell_type": "code",
      "source": [
        "DIR = './'\n",
        "\n",
        "def load_data(file_name):\n",
        "    count = 0\n",
        "    data = []\n",
        "    with gzip.open(file_name) as fin:\n",
        "        for l in fin:\n",
        "            d = json.loads(l)\n",
        "            count += 1\n",
        "            data.append(d)\n",
        "\n",
        "    return data"
      ],
      "metadata": {
        "id": "6jsClVWTo_YM"
      },
      "execution_count": 4,
      "outputs": []
    },
    {
      "cell_type": "code",
      "source": [
        "books = load_data(os.path.join(DIR, 'goodreads_books_poetry.json.gz'))\n",
        "interactions = load_data(os.path.join(DIR, 'goodreads_interactions_poetry.json.gz'))\n",
        "reviews = load_data(os.path.join(DIR, 'goodreads_reviews_poetry.json.gz'))"
      ],
      "metadata": {
        "id": "pIyrp63ipBKC"
      },
      "execution_count": 5,
      "outputs": []
    },
    {
      "cell_type": "code",
      "source": [
        "df_interactions = pd.json_normalize(interactions)\n",
        "df_books = pd.json_normalize(books)\n",
        "df_reviews = pd.json_normalize(reviews)"
      ],
      "metadata": {
        "id": "m_yvFnrIpDNN"
      },
      "execution_count": 6,
      "outputs": []
    },
    {
      "cell_type": "code",
      "source": [
        "user_map = pd.read_csv('user_id_map.csv')\n",
        "book_map = pd.read_csv('book_id_map.csv')"
      ],
      "metadata": {
        "id": "43-WL_pMpE1b"
      },
      "execution_count": 7,
      "outputs": []
    },
    {
      "cell_type": "code",
      "source": [
        "df_merged = pd.merge(df_books, df_reviews, left_on='book_id', right_on='book_id')\n",
        "df_merged = pd.merge(df_merged, user_map, on='user_id')\n",
        "df_merged = df_merged.astype({'book_id':'int64'})\n",
        "df_merged = pd.merge(df_merged, book_map, on='book_id')\n",
        "# df_merged['rating'] = [r/5 for r in df_merged['rating']]\n",
        "df_merged.columns"
      ],
      "metadata": {
        "colab": {
          "base_uri": "https://localhost:8080/"
        },
        "id": "a8DkNlJ1pGX0",
        "outputId": "a18d7ae6-abca-4c34-a108-929bc30896f9"
      },
      "execution_count": 8,
      "outputs": [
        {
          "output_type": "execute_result",
          "data": {
            "text/plain": [
              "Index(['isbn', 'text_reviews_count', 'series', 'country_code', 'language_code',\n",
              "       'popular_shelves', 'asin', 'is_ebook', 'average_rating', 'kindle_asin',\n",
              "       'similar_books', 'description', 'format', 'link', 'authors',\n",
              "       'publisher', 'num_pages', 'publication_day', 'isbn13',\n",
              "       'publication_month', 'edition_information', 'publication_year', 'url',\n",
              "       'image_url', 'book_id', 'ratings_count', 'work_id', 'title',\n",
              "       'title_without_series', 'user_id', 'review_id', 'rating', 'review_text',\n",
              "       'date_added', 'date_updated', 'read_at', 'started_at', 'n_votes',\n",
              "       'n_comments', 'user_id_csv', 'book_id_csv'],\n",
              "      dtype='object')"
            ]
          },
          "metadata": {},
          "execution_count": 8
        }
      ]
    },
    {
      "cell_type": "code",
      "source": [
        "column = ['user_id_csv', 'book_id_csv', 'rating']\n",
        "df = df_merged[column]\n",
        "df.head()"
      ],
      "metadata": {
        "colab": {
          "base_uri": "https://localhost:8080/",
          "height": 206
        },
        "id": "q185J6VapID_",
        "outputId": "7c5d260b-f671-43dc-e4c7-a66988b80da7"
      },
      "execution_count": 9,
      "outputs": [
        {
          "output_type": "execute_result",
          "data": {
            "text/plain": [
              "   user_id_csv  book_id_csv  rating\n",
              "0       256407       158412       4\n",
              "1       371125      1224532       3\n",
              "2       371125       337477       5\n",
              "3        42094       337477       4\n",
              "4        40607       337477       4"
            ],
            "text/html": [
              "\n",
              "  <div id=\"df-a3d529b2-c915-49a6-b52d-f1dacefbb9cb\">\n",
              "    <div class=\"colab-df-container\">\n",
              "      <div>\n",
              "<style scoped>\n",
              "    .dataframe tbody tr th:only-of-type {\n",
              "        vertical-align: middle;\n",
              "    }\n",
              "\n",
              "    .dataframe tbody tr th {\n",
              "        vertical-align: top;\n",
              "    }\n",
              "\n",
              "    .dataframe thead th {\n",
              "        text-align: right;\n",
              "    }\n",
              "</style>\n",
              "<table border=\"1\" class=\"dataframe\">\n",
              "  <thead>\n",
              "    <tr style=\"text-align: right;\">\n",
              "      <th></th>\n",
              "      <th>user_id_csv</th>\n",
              "      <th>book_id_csv</th>\n",
              "      <th>rating</th>\n",
              "    </tr>\n",
              "  </thead>\n",
              "  <tbody>\n",
              "    <tr>\n",
              "      <th>0</th>\n",
              "      <td>256407</td>\n",
              "      <td>158412</td>\n",
              "      <td>4</td>\n",
              "    </tr>\n",
              "    <tr>\n",
              "      <th>1</th>\n",
              "      <td>371125</td>\n",
              "      <td>1224532</td>\n",
              "      <td>3</td>\n",
              "    </tr>\n",
              "    <tr>\n",
              "      <th>2</th>\n",
              "      <td>371125</td>\n",
              "      <td>337477</td>\n",
              "      <td>5</td>\n",
              "    </tr>\n",
              "    <tr>\n",
              "      <th>3</th>\n",
              "      <td>42094</td>\n",
              "      <td>337477</td>\n",
              "      <td>4</td>\n",
              "    </tr>\n",
              "    <tr>\n",
              "      <th>4</th>\n",
              "      <td>40607</td>\n",
              "      <td>337477</td>\n",
              "      <td>4</td>\n",
              "    </tr>\n",
              "  </tbody>\n",
              "</table>\n",
              "</div>\n",
              "      <button class=\"colab-df-convert\" onclick=\"convertToInteractive('df-a3d529b2-c915-49a6-b52d-f1dacefbb9cb')\"\n",
              "              title=\"Convert this dataframe to an interactive table.\"\n",
              "              style=\"display:none;\">\n",
              "        \n",
              "  <svg xmlns=\"http://www.w3.org/2000/svg\" height=\"24px\"viewBox=\"0 0 24 24\"\n",
              "       width=\"24px\">\n",
              "    <path d=\"M0 0h24v24H0V0z\" fill=\"none\"/>\n",
              "    <path d=\"M18.56 5.44l.94 2.06.94-2.06 2.06-.94-2.06-.94-.94-2.06-.94 2.06-2.06.94zm-11 1L8.5 8.5l.94-2.06 2.06-.94-2.06-.94L8.5 2.5l-.94 2.06-2.06.94zm10 10l.94 2.06.94-2.06 2.06-.94-2.06-.94-.94-2.06-.94 2.06-2.06.94z\"/><path d=\"M17.41 7.96l-1.37-1.37c-.4-.4-.92-.59-1.43-.59-.52 0-1.04.2-1.43.59L10.3 9.45l-7.72 7.72c-.78.78-.78 2.05 0 2.83L4 21.41c.39.39.9.59 1.41.59.51 0 1.02-.2 1.41-.59l7.78-7.78 2.81-2.81c.8-.78.8-2.07 0-2.86zM5.41 20L4 18.59l7.72-7.72 1.47 1.35L5.41 20z\"/>\n",
              "  </svg>\n",
              "      </button>\n",
              "      \n",
              "  <style>\n",
              "    .colab-df-container {\n",
              "      display:flex;\n",
              "      flex-wrap:wrap;\n",
              "      gap: 12px;\n",
              "    }\n",
              "\n",
              "    .colab-df-convert {\n",
              "      background-color: #E8F0FE;\n",
              "      border: none;\n",
              "      border-radius: 50%;\n",
              "      cursor: pointer;\n",
              "      display: none;\n",
              "      fill: #1967D2;\n",
              "      height: 32px;\n",
              "      padding: 0 0 0 0;\n",
              "      width: 32px;\n",
              "    }\n",
              "\n",
              "    .colab-df-convert:hover {\n",
              "      background-color: #E2EBFA;\n",
              "      box-shadow: 0px 1px 2px rgba(60, 64, 67, 0.3), 0px 1px 3px 1px rgba(60, 64, 67, 0.15);\n",
              "      fill: #174EA6;\n",
              "    }\n",
              "\n",
              "    [theme=dark] .colab-df-convert {\n",
              "      background-color: #3B4455;\n",
              "      fill: #D2E3FC;\n",
              "    }\n",
              "\n",
              "    [theme=dark] .colab-df-convert:hover {\n",
              "      background-color: #434B5C;\n",
              "      box-shadow: 0px 1px 3px 1px rgba(0, 0, 0, 0.15);\n",
              "      filter: drop-shadow(0px 1px 2px rgba(0, 0, 0, 0.3));\n",
              "      fill: #FFFFFF;\n",
              "    }\n",
              "  </style>\n",
              "\n",
              "      <script>\n",
              "        const buttonEl =\n",
              "          document.querySelector('#df-a3d529b2-c915-49a6-b52d-f1dacefbb9cb button.colab-df-convert');\n",
              "        buttonEl.style.display =\n",
              "          google.colab.kernel.accessAllowed ? 'block' : 'none';\n",
              "\n",
              "        async function convertToInteractive(key) {\n",
              "          const element = document.querySelector('#df-a3d529b2-c915-49a6-b52d-f1dacefbb9cb');\n",
              "          const dataTable =\n",
              "            await google.colab.kernel.invokeFunction('convertToInteractive',\n",
              "                                                     [key], {});\n",
              "          if (!dataTable) return;\n",
              "\n",
              "          const docLinkHtml = 'Like what you see? Visit the ' +\n",
              "            '<a target=\"_blank\" href=https://colab.research.google.com/notebooks/data_table.ipynb>data table notebook</a>'\n",
              "            + ' to learn more about interactive tables.';\n",
              "          element.innerHTML = '';\n",
              "          dataTable['output_type'] = 'display_data';\n",
              "          await google.colab.output.renderOutput(dataTable, element);\n",
              "          const docLink = document.createElement('div');\n",
              "          docLink.innerHTML = docLinkHtml;\n",
              "          element.appendChild(docLink);\n",
              "        }\n",
              "      </script>\n",
              "    </div>\n",
              "  </div>\n",
              "  "
            ]
          },
          "metadata": {},
          "execution_count": 9
        }
      ]
    },
    {
      "cell_type": "code",
      "source": [
        "df[df['book_id_csv'] == 1241].index[0]"
      ],
      "metadata": {
        "colab": {
          "base_uri": "https://localhost:8080/"
        },
        "id": "GPt6NXp--hMm",
        "outputId": "16b0babc-7cb2-4e3a-e220-8a1f8af8305f"
      },
      "execution_count": 10,
      "outputs": [
        {
          "output_type": "execute_result",
          "data": {
            "text/plain": [
              "12091"
            ]
          },
          "metadata": {},
          "execution_count": 10
        }
      ]
    },
    {
      "cell_type": "code",
      "source": [
        "c = df.book_id_csv.value_counts()\n",
        "s = c[c == 1].reset_index()\n",
        "single_books = list(s['index'])\n",
        "\n",
        "test_index = []\n",
        "\n",
        "for book in set(df['book_id_csv']):\n",
        "  if book not in single_books:\n",
        "    test_index.append(df[df['book_id_csv'] == book].index[0])\n",
        "\n",
        "len(test_index)"
      ],
      "metadata": {
        "colab": {
          "base_uri": "https://localhost:8080/"
        },
        "id": "7o129lXh7YA_",
        "outputId": "1bcfdd62-93e2-404e-988c-f9e36b000fda"
      },
      "execution_count": 11,
      "outputs": [
        {
          "output_type": "execute_result",
          "data": {
            "text/plain": [
              "16878"
            ]
          },
          "metadata": {},
          "execution_count": 11
        }
      ]
    },
    {
      "cell_type": "code",
      "source": [
        "test_df = df.iloc[test_index, :]\n",
        "train_df = df[~df.index.isin(test_index)]"
      ],
      "metadata": {
        "id": "mm181SL8_kuk"
      },
      "execution_count": 12,
      "outputs": []
    },
    {
      "cell_type": "code",
      "source": [
        "train_df.shape, test_df.shape"
      ],
      "metadata": {
        "colab": {
          "base_uri": "https://localhost:8080/"
        },
        "id": "GeBgfSC4qhXT",
        "outputId": "2b306d34-37ee-4574-ee8a-8875b5bdb7fe"
      },
      "execution_count": 13,
      "outputs": [
        {
          "output_type": "execute_result",
          "data": {
            "text/plain": [
              "((137677, 3), (16878, 3))"
            ]
          },
          "metadata": {},
          "execution_count": 13
        }
      ]
    },
    {
      "cell_type": "markdown",
      "source": [
        "# Generate vectors"
      ],
      "metadata": {
        "id": "Miza9Kq7pS-o"
      }
    },
    {
      "cell_type": "code",
      "source": [
        "from collections import defaultdict\n",
        "\n",
        "def preprocessing(df):\n",
        "    R_ui = (df.groupby('user_id_csv')['book_id_csv','rating'].apply(lambda x: dict(x.values)).to_dict())\n",
        "    R_iu = (df.groupby('book_id_csv')['user_id_csv','rating'].apply(lambda x: dict(x.values)).to_dict())\n",
        "\n",
        "    return R_ui, R_iu\n",
        "\n",
        "# Prints the first 20 items in our dictionary\n",
        "# n = 20\n",
        "# {key:value for key,value in list(R_ui.items())[0:n]}"
      ],
      "metadata": {
        "id": "9lGEMPSrpOdl"
      },
      "execution_count": 14,
      "outputs": []
    },
    {
      "cell_type": "code",
      "source": [
        "R_ui, R_iu = preprocessing(train_df)"
      ],
      "metadata": {
        "colab": {
          "base_uri": "https://localhost:8080/"
        },
        "id": "QhhJB0YYpsT2",
        "outputId": "10bc7a4f-4da5-42aa-e401-210db7f491cb"
      },
      "execution_count": 15,
      "outputs": [
        {
          "output_type": "stream",
          "name": "stderr",
          "text": [
            "/usr/local/lib/python3.7/dist-packages/ipykernel_launcher.py:4: FutureWarning: Indexing with multiple keys (implicitly converted to a tuple of keys) will be deprecated, use a list instead.\n",
            "  after removing the cwd from sys.path.\n",
            "/usr/local/lib/python3.7/dist-packages/ipykernel_launcher.py:5: FutureWarning: Indexing with multiple keys (implicitly converted to a tuple of keys) will be deprecated, use a list instead.\n",
            "  \"\"\"\n"
          ]
        }
      ]
    },
    {
      "cell_type": "code",
      "source": [
        "R_ui[46779][953479]"
      ],
      "metadata": {
        "colab": {
          "base_uri": "https://localhost:8080/"
        },
        "id": "_ozzAsqnsQOP",
        "outputId": "1f5a295f-a990-4291-c6d4-0804fa0ac23d"
      },
      "execution_count": 16,
      "outputs": [
        {
          "output_type": "execute_result",
          "data": {
            "text/plain": [
              "4"
            ]
          },
          "metadata": {},
          "execution_count": 16
        }
      ]
    },
    {
      "cell_type": "code",
      "source": [
        "def cosine_similarity(d, item1, item2):\n",
        "    k1 = set(d[item1].keys())\n",
        "    k2 = set(d[item2].keys())\n",
        "\n",
        "    items = k1.intersection(k2)\n",
        "\n",
        "    if len(items) == 0:\n",
        "      return 0\n",
        "\n",
        "    v1 = np.array([d[item1][item] for item in items])\n",
        "    v2 = np.array([d[item2][item] for item in items])\n",
        "\n",
        "    num = sum(v1*v2)\n",
        "\n",
        "    d1 = np.array(list(d[item1].values()))\n",
        "    d2 = np.array(list(d[item2].values()))\n",
        "\n",
        "    den = np.sqrt(sum(d1**2) * sum(d2**2))\n",
        "    if den == 0:\n",
        "      return 0\n",
        "\n",
        "    return num/den"
      ],
      "metadata": {
        "id": "sNP86n1Rs-CR"
      },
      "execution_count": 17,
      "outputs": []
    },
    {
      "cell_type": "code",
      "source": [
        "def item_item_collaborative_filtering(R_ui, R_iu, user_u, item_i):\n",
        "    \"\"\"\n",
        "    Arguments: \n",
        "    item_emb (dictionary of numpy.array): pre-trained embeddings of items. \n",
        "     - The key is item_id (string), and the value is the corresponding item embedding (numpy.array; dim=32).\n",
        "    user_u (string): user_id.\n",
        "    item_j (string): item_id.\n",
        "\n",
        "    Returns:\n",
        "    P_{u,i} (float): the predicted rating of user i on item j based on the item-item collaborative filtering.\n",
        "\n",
        "    Steps:\n",
        "    1. retrieve the set of items I a user rated using the keys of R_ui.\n",
        "    2. for each item in I (must be different from item_i), compute sim(current_item, item_i).\n",
        "    3. update numerator and denominator values for the current item based on the above P_{u,i} equation. \n",
        "        - Don't forget to use absolute value of the similarity while computing denominator.\n",
        "    4. repeat 2 and 3 for all items in I, and return numerator/denominator.\n",
        "    \"\"\"\n",
        "    numerator, denominator = 0, 0\n",
        "    ## Add code below [1.0 points] ##\n",
        "    try:\n",
        "      item_set = R_ui[user_u].keys()\n",
        "    except:\n",
        "      return 0\n",
        "\n",
        "    numerator = sum([cosine_similarity(R_iu, item, item_i)*R_ui[user_u][item] for item in item_set if item != item_i])\n",
        "    denominator = sum([abs(cosine_similarity(R_iu, item, item_i)) for item in item_set if item != item_i])\n",
        "    if denominator == 0:\n",
        "      return 0\n",
        "    #################################\n",
        "    return numerator/denominator"
      ],
      "metadata": {
        "id": "7WFzz8sGtGCY"
      },
      "execution_count": 18,
      "outputs": []
    },
    {
      "cell_type": "code",
      "source": [
        "item_item_collaborative_filtering(R_ui, R_iu, 46779, 953479)"
      ],
      "metadata": {
        "colab": {
          "base_uri": "https://localhost:8080/"
        },
        "id": "v6IuBORquJQW",
        "outputId": "bf058bff-d5bd-4fe7-b586-bd9a3e38578b"
      },
      "execution_count": 19,
      "outputs": [
        {
          "output_type": "execute_result",
          "data": {
            "text/plain": [
              "4.018325222508087"
            ]
          },
          "metadata": {},
          "execution_count": 19
        }
      ]
    },
    {
      "cell_type": "code",
      "source": [
        "def test_of_collaborative_filtering(test_df, R_iu):\n",
        "  \"\"\"\n",
        "  Arguments: \n",
        "  test data (str-type numpy.array): the test data containing user_id, movie_id, and normalized rating (0-1) information.\n",
        "  item_emb (dictionary of numpy.arraay): pre-trained embeddings of items. \n",
        "   - The key is item_id (string), and the value is the corresponding item embedding (numpy.array; dim=32).\n",
        "\n",
        "  Returns:\n",
        "  test_RMSE (float): the test RMSE of item-item collaborative filtering model.\n",
        "\n",
        "  Steps:\n",
        "  1. for each test example in the test data, compute P_{u,i} using the item_item_collaborative_filtering function.\n",
        "  2. compute the error (R_{u,i}^{test} - P_{u,i}) for the current test example.\n",
        "  3. sum the square of the error for all test examples.\n",
        "  4. divide the sum by the number of test examples and compute the root of it.\n",
        "  \"\"\"\n",
        "  test_RMSE = 0\n",
        "  ## Add code below [0.5 points] ##\n",
        "  N = len(test_df)\n",
        "  R_ui_, R_iu_ = preprocessing(test_df)\n",
        "\n",
        "  temp_mse = [(R_ui_[test_df.iloc[i, 0]][test_df.iloc[i, 1]] - item_item_collaborative_filtering(R_ui, R_iu, test_df.iloc[i, 0], test_df.iloc[i, 1]))**2 for i in range(len(test_df))]\n",
        "  temp_mae = [abs(R_ui_[test_df.iloc[i, 0]][test_df.iloc[i, 1]] - item_item_collaborative_filtering(R_ui, R_iu, test_df.iloc[i, 0], test_df.iloc[i, 1])) for i in range(len(test_df))]\n",
        "\n",
        "  test_MSE = sum(temp_mse)/N\n",
        "  test_MAE = sum(temp_mae)/N\n",
        "  #################################\n",
        "  return test_MAE, test_MSE, np.sqrt(test_MSE)"
      ],
      "metadata": {
        "id": "mt8we8qAuqCO"
      },
      "execution_count": 20,
      "outputs": []
    },
    {
      "cell_type": "code",
      "source": [
        "mae, mse, rmse = test_of_collaborative_filtering(test_df, R_iu)"
      ],
      "metadata": {
        "colab": {
          "base_uri": "https://localhost:8080/"
        },
        "id": "7bs34bdKvTjQ",
        "outputId": "9744d515-489d-476e-8c04-b718decefb65"
      },
      "execution_count": 21,
      "outputs": [
        {
          "output_type": "stream",
          "name": "stderr",
          "text": [
            "/usr/local/lib/python3.7/dist-packages/ipykernel_launcher.py:4: FutureWarning: Indexing with multiple keys (implicitly converted to a tuple of keys) will be deprecated, use a list instead.\n",
            "  after removing the cwd from sys.path.\n",
            "/usr/local/lib/python3.7/dist-packages/ipykernel_launcher.py:5: FutureWarning: Indexing with multiple keys (implicitly converted to a tuple of keys) will be deprecated, use a list instead.\n",
            "  \"\"\"\n"
          ]
        }
      ]
    },
    {
      "cell_type": "code",
      "source": [
        "print(\"==== Item-Item Collaborative Filtering Evaluation Metrics: ====\\n\")\n",
        "print('MAE (L1) = {:.4f} \\nMSE (L2) = {:.4f} \\nRMSE     = {:.4f}'.format(mae, mse, rmse))"
      ],
      "metadata": {
        "colab": {
          "base_uri": "https://localhost:8080/"
        },
        "id": "0sAGUPdHSbQu",
        "outputId": "f95c09a2-077b-4f9d-dcf4-e291c5e99304"
      },
      "execution_count": 22,
      "outputs": [
        {
          "output_type": "stream",
          "name": "stdout",
          "text": [
            "==== Item-Item Collaborative Filtering Evaluation Metrics: ====\n",
            "\n",
            "MAE (L1) = 2.8516 \n",
            "MSE (L2) = 11.5179 \n",
            "RMSE     = 3.3938\n"
          ]
        }
      ]
    }
  ]
}
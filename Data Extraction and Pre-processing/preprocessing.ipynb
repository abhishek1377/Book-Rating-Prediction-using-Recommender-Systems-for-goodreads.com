{
  "nbformat": 4,
  "nbformat_minor": 0,
  "metadata": {
    "colab": {
      "name": "preprocessing.ipynb",
      "provenance": [],
      "collapsed_sections": []
    },
    "kernelspec": {
      "name": "python3",
      "display_name": "Python 3"
    },
    "language_info": {
      "name": "python"
    }
  },
  "cells": [
    {
      "cell_type": "code",
      "execution_count": null,
      "metadata": {
        "id": "fskSSiOmzWbd",
        "colab": {
          "base_uri": "https://localhost:8080/"
        },
        "outputId": "b6578d0e-a697-4ea8-fa2c-11b755c90184"
      },
      "outputs": [
        {
          "output_type": "stream",
          "name": "stdout",
          "text": [
            "Drive already mounted at /content/drive; to attempt to forcibly remount, call drive.mount(\"/content/drive\", force_remount=True).\n"
          ]
        }
      ],
      "source": [
        "from google.colab import drive\n",
        "drive.mount('/content/drive')"
      ]
    },
    {
      "cell_type": "code",
      "source": [
        "cd /content/drive/MyDrive/6240_project/project_data/"
      ],
      "metadata": {
        "id": "x_bO_6iRzyyw",
        "colab": {
          "base_uri": "https://localhost:8080/"
        },
        "outputId": "7599aef5-ec8d-410b-9e6a-ce601eacf058"
      },
      "execution_count": null,
      "outputs": [
        {
          "output_type": "stream",
          "name": "stdout",
          "text": [
            "/content/drive/MyDrive/6240_project/project_data\n"
          ]
        }
      ]
    },
    {
      "cell_type": "code",
      "source": [
        "import gzip\n",
        "import json\n",
        "import re\n",
        "import os\n",
        "import sys\n",
        "import numpy as np\n",
        "import pandas as pd\n",
        "import torch\n",
        "import torch.nn as nn\n",
        "import time\n",
        "from collections import defaultdict\n",
        "from tqdm import tqdm\n",
        "import pickle\n",
        "from sklearn.model_selection import train_test_split\n",
        "import ast\n",
        "from scipy.spatial import distance\n",
        "from tqdm import tqdm\n",
        "from sklearn.model_selection import train_test_split\n",
        "import ast\n",
        "import matplotlib.pyplot as plt"
      ],
      "metadata": {
        "id": "n-YgyCY90Bml"
      },
      "execution_count": null,
      "outputs": []
    },
    {
      "cell_type": "code",
      "source": [
        "import gzip\n",
        "def load_data(file_name):\n",
        "    count = 0\n",
        "    data = []\n",
        "    with gzip.open(file_name) as fin:\n",
        "        for l in fin:\n",
        "            d = json.loads(l)\n",
        "            count += 1\n",
        "            data.append(d)\n",
        "            \n",
        "          \n",
        "    return data\n"
      ],
      "metadata": {
        "id": "jY0QlFG6zcyS"
      },
      "execution_count": null,
      "outputs": []
    },
    {
      "cell_type": "markdown",
      "source": [
        "Steps to generate the interactions.csv file and interactions_full.csv file"
      ],
      "metadata": {
        "id": "Iomltubhyy84"
      }
    },
    {
      "cell_type": "markdown",
      "source": [
        "Load the user-item interaction matrix "
      ],
      "metadata": {
        "id": "cJhrYe0hv7bN"
      }
    },
    {
      "cell_type": "code",
      "source": [
        "interactions = load_data('/content/drive/MyDrive/6240_project/project_data/goodreads_interactions_poetry.json.gz')"
      ],
      "metadata": {
        "id": "4s7VNmob0Cuu"
      },
      "execution_count": null,
      "outputs": []
    },
    {
      "cell_type": "code",
      "source": [
        "interactions_df = pd.json_normalize(interactions)"
      ],
      "metadata": {
        "id": "CBYSgjom0NQE"
      },
      "execution_count": null,
      "outputs": []
    },
    {
      "cell_type": "code",
      "source": [
        "len(interactions_df)"
      ],
      "metadata": {
        "colab": {
          "base_uri": "https://localhost:8080/"
        },
        "id": "Ve4-I-RC2b6B",
        "outputId": "b8fd181c-0d7f-473e-c228-2c48518fbad3"
      },
      "execution_count": null,
      "outputs": [
        {
          "output_type": "execute_result",
          "data": {
            "text/plain": [
              "2734350"
            ]
          },
          "metadata": {},
          "execution_count": 13
        }
      ]
    },
    {
      "cell_type": "markdown",
      "source": [
        "user_id_map.csv - Dataset to map the unique user ids to integers \n",
        "book_id_map.csv - Dataset to map the unique book ids to integers \n",
        "\n",
        "'user_id' - are the original user ids \n",
        "'user_id_csv' -  are the integer mapped user ids "
      ],
      "metadata": {
        "id": "kP-ayq7xwTUp"
      }
    },
    {
      "cell_type": "code",
      "source": [
        "user_map = pd.read_csv('/content/drive/MyDrive/6240_project/project_data/user_id_map.csv')\n",
        "book_map = pd.read_csv('/content/drive/MyDrive/6240_project/project_data/book_id_map.csv')"
      ],
      "metadata": {
        "id": "vDo81cfZ0YEv"
      },
      "execution_count": null,
      "outputs": []
    },
    {
      "cell_type": "markdown",
      "source": [
        "Join the interactions matrix and user_map to link user_ids to their mapped integer values for easier handling"
      ],
      "metadata": {
        "id": "fMfs1FqAw0fB"
      }
    },
    {
      "cell_type": "code",
      "source": [
        "rating_df = interactions_df.merge(user_map,on='user_id')[['user_id_csv','book_id','rating']]"
      ],
      "metadata": {
        "id": "9m1jQwtZ1hQn"
      },
      "execution_count": null,
      "outputs": []
    },
    {
      "cell_type": "markdown",
      "source": [
        "Filter out zero rated interactions"
      ],
      "metadata": {
        "id": "r8BYjQE8xBDu"
      }
    },
    {
      "cell_type": "code",
      "source": [
        "non_zero = rating_df[rating_df['rating']!=0].reset_index(drop=True)\n",
        "non_zero"
      ],
      "metadata": {
        "colab": {
          "base_uri": "https://localhost:8080/",
          "height": 419
        },
        "id": "ipeRp_vOZxs4",
        "outputId": "bcb7ad8a-e720-41df-e152-d232c68a8bb0"
      },
      "execution_count": null,
      "outputs": [
        {
          "output_type": "execute_result",
          "data": {
            "text/plain": [
              "         user_id_csv   book_id  rating\n",
              "0                  0      1384       4\n",
              "1                  0      1376       4\n",
              "2                  0     30119       5\n",
              "3                  1     30119       3\n",
              "4                  2    240007       4\n",
              "...              ...       ...     ...\n",
              "1229054       876132      2547       5\n",
              "1229055       876133  11047097       4\n",
              "1229056       876144   7433930       5\n",
              "1229057       876144  16170625       5\n",
              "1229058       876144  16101638       4\n",
              "\n",
              "[1229059 rows x 3 columns]"
            ],
            "text/html": [
              "\n",
              "  <div id=\"df-c33a78af-0f5e-486e-8b7c-19d68242d3de\">\n",
              "    <div class=\"colab-df-container\">\n",
              "      <div>\n",
              "<style scoped>\n",
              "    .dataframe tbody tr th:only-of-type {\n",
              "        vertical-align: middle;\n",
              "    }\n",
              "\n",
              "    .dataframe tbody tr th {\n",
              "        vertical-align: top;\n",
              "    }\n",
              "\n",
              "    .dataframe thead th {\n",
              "        text-align: right;\n",
              "    }\n",
              "</style>\n",
              "<table border=\"1\" class=\"dataframe\">\n",
              "  <thead>\n",
              "    <tr style=\"text-align: right;\">\n",
              "      <th></th>\n",
              "      <th>user_id_csv</th>\n",
              "      <th>book_id</th>\n",
              "      <th>rating</th>\n",
              "    </tr>\n",
              "  </thead>\n",
              "  <tbody>\n",
              "    <tr>\n",
              "      <th>0</th>\n",
              "      <td>0</td>\n",
              "      <td>1384</td>\n",
              "      <td>4</td>\n",
              "    </tr>\n",
              "    <tr>\n",
              "      <th>1</th>\n",
              "      <td>0</td>\n",
              "      <td>1376</td>\n",
              "      <td>4</td>\n",
              "    </tr>\n",
              "    <tr>\n",
              "      <th>2</th>\n",
              "      <td>0</td>\n",
              "      <td>30119</td>\n",
              "      <td>5</td>\n",
              "    </tr>\n",
              "    <tr>\n",
              "      <th>3</th>\n",
              "      <td>1</td>\n",
              "      <td>30119</td>\n",
              "      <td>3</td>\n",
              "    </tr>\n",
              "    <tr>\n",
              "      <th>4</th>\n",
              "      <td>2</td>\n",
              "      <td>240007</td>\n",
              "      <td>4</td>\n",
              "    </tr>\n",
              "    <tr>\n",
              "      <th>...</th>\n",
              "      <td>...</td>\n",
              "      <td>...</td>\n",
              "      <td>...</td>\n",
              "    </tr>\n",
              "    <tr>\n",
              "      <th>1229054</th>\n",
              "      <td>876132</td>\n",
              "      <td>2547</td>\n",
              "      <td>5</td>\n",
              "    </tr>\n",
              "    <tr>\n",
              "      <th>1229055</th>\n",
              "      <td>876133</td>\n",
              "      <td>11047097</td>\n",
              "      <td>4</td>\n",
              "    </tr>\n",
              "    <tr>\n",
              "      <th>1229056</th>\n",
              "      <td>876144</td>\n",
              "      <td>7433930</td>\n",
              "      <td>5</td>\n",
              "    </tr>\n",
              "    <tr>\n",
              "      <th>1229057</th>\n",
              "      <td>876144</td>\n",
              "      <td>16170625</td>\n",
              "      <td>5</td>\n",
              "    </tr>\n",
              "    <tr>\n",
              "      <th>1229058</th>\n",
              "      <td>876144</td>\n",
              "      <td>16101638</td>\n",
              "      <td>4</td>\n",
              "    </tr>\n",
              "  </tbody>\n",
              "</table>\n",
              "<p>1229059 rows × 3 columns</p>\n",
              "</div>\n",
              "      <button class=\"colab-df-convert\" onclick=\"convertToInteractive('df-c33a78af-0f5e-486e-8b7c-19d68242d3de')\"\n",
              "              title=\"Convert this dataframe to an interactive table.\"\n",
              "              style=\"display:none;\">\n",
              "        \n",
              "  <svg xmlns=\"http://www.w3.org/2000/svg\" height=\"24px\"viewBox=\"0 0 24 24\"\n",
              "       width=\"24px\">\n",
              "    <path d=\"M0 0h24v24H0V0z\" fill=\"none\"/>\n",
              "    <path d=\"M18.56 5.44l.94 2.06.94-2.06 2.06-.94-2.06-.94-.94-2.06-.94 2.06-2.06.94zm-11 1L8.5 8.5l.94-2.06 2.06-.94-2.06-.94L8.5 2.5l-.94 2.06-2.06.94zm10 10l.94 2.06.94-2.06 2.06-.94-2.06-.94-.94-2.06-.94 2.06-2.06.94z\"/><path d=\"M17.41 7.96l-1.37-1.37c-.4-.4-.92-.59-1.43-.59-.52 0-1.04.2-1.43.59L10.3 9.45l-7.72 7.72c-.78.78-.78 2.05 0 2.83L4 21.41c.39.39.9.59 1.41.59.51 0 1.02-.2 1.41-.59l7.78-7.78 2.81-2.81c.8-.78.8-2.07 0-2.86zM5.41 20L4 18.59l7.72-7.72 1.47 1.35L5.41 20z\"/>\n",
              "  </svg>\n",
              "      </button>\n",
              "      \n",
              "  <style>\n",
              "    .colab-df-container {\n",
              "      display:flex;\n",
              "      flex-wrap:wrap;\n",
              "      gap: 12px;\n",
              "    }\n",
              "\n",
              "    .colab-df-convert {\n",
              "      background-color: #E8F0FE;\n",
              "      border: none;\n",
              "      border-radius: 50%;\n",
              "      cursor: pointer;\n",
              "      display: none;\n",
              "      fill: #1967D2;\n",
              "      height: 32px;\n",
              "      padding: 0 0 0 0;\n",
              "      width: 32px;\n",
              "    }\n",
              "\n",
              "    .colab-df-convert:hover {\n",
              "      background-color: #E2EBFA;\n",
              "      box-shadow: 0px 1px 2px rgba(60, 64, 67, 0.3), 0px 1px 3px 1px rgba(60, 64, 67, 0.15);\n",
              "      fill: #174EA6;\n",
              "    }\n",
              "\n",
              "    [theme=dark] .colab-df-convert {\n",
              "      background-color: #3B4455;\n",
              "      fill: #D2E3FC;\n",
              "    }\n",
              "\n",
              "    [theme=dark] .colab-df-convert:hover {\n",
              "      background-color: #434B5C;\n",
              "      box-shadow: 0px 1px 3px 1px rgba(0, 0, 0, 0.15);\n",
              "      filter: drop-shadow(0px 1px 2px rgba(0, 0, 0, 0.3));\n",
              "      fill: #FFFFFF;\n",
              "    }\n",
              "  </style>\n",
              "\n",
              "      <script>\n",
              "        const buttonEl =\n",
              "          document.querySelector('#df-c33a78af-0f5e-486e-8b7c-19d68242d3de button.colab-df-convert');\n",
              "        buttonEl.style.display =\n",
              "          google.colab.kernel.accessAllowed ? 'block' : 'none';\n",
              "\n",
              "        async function convertToInteractive(key) {\n",
              "          const element = document.querySelector('#df-c33a78af-0f5e-486e-8b7c-19d68242d3de');\n",
              "          const dataTable =\n",
              "            await google.colab.kernel.invokeFunction('convertToInteractive',\n",
              "                                                     [key], {});\n",
              "          if (!dataTable) return;\n",
              "\n",
              "          const docLinkHtml = 'Like what you see? Visit the ' +\n",
              "            '<a target=\"_blank\" href=https://colab.research.google.com/notebooks/data_table.ipynb>data table notebook</a>'\n",
              "            + ' to learn more about interactive tables.';\n",
              "          element.innerHTML = '';\n",
              "          dataTable['output_type'] = 'display_data';\n",
              "          await google.colab.output.renderOutput(dataTable, element);\n",
              "          const docLink = document.createElement('div');\n",
              "          docLink.innerHTML = docLinkHtml;\n",
              "          element.appendChild(docLink);\n",
              "        }\n",
              "      </script>\n",
              "    </div>\n",
              "  </div>\n",
              "  "
            ]
          },
          "metadata": {},
          "execution_count": 11
        }
      ]
    },
    {
      "cell_type": "code",
      "source": [
        "user_map = dict(zip(np.unique(non_zero['user_id_csv']),np.arange(len(np.unique(non_zero['user_id_csv'])))))\n",
        "item_map = dict(zip(np.unique(non_zero['book_id']),np.arange(len(np.unique(non_zero['book_id'])))))"
      ],
      "metadata": {
        "id": "gpFptA5VsL_s"
      },
      "execution_count": null,
      "outputs": []
    },
    {
      "cell_type": "code",
      "source": [
        "non_zero['uid'] = non_zero['user_id_csv'].apply(lambda x : user_map[x])\n",
        "non_zero['bid'] = non_zero['book_id'].apply(lambda x : item_map[x])\n",
        "non_zero[['uid','bid','rating']].to_csv('interaction.csv')"
      ],
      "metadata": {
        "id": "GoEzYpiasqrp"
      },
      "execution_count": null,
      "outputs": []
    },
    {
      "cell_type": "code",
      "source": [
        "non_zero.to_csv('interaction_full.csv')"
      ],
      "metadata": {
        "id": "Ick9rDgAtQuS"
      },
      "execution_count": null,
      "outputs": []
    },
    {
      "cell_type": "code",
      "source": [
        "non_zero"
      ],
      "metadata": {
        "colab": {
          "base_uri": "https://localhost:8080/",
          "height": 419
        },
        "id": "f6OL9uLruOwU",
        "outputId": "6bc87f7e-9c5e-43e7-9017-701a5a452b4f"
      },
      "execution_count": null,
      "outputs": [
        {
          "output_type": "execute_result",
          "data": {
            "text/plain": [
              "         user_id_csv   book_id  rating     uid    bid\n",
              "0                  0      1384       4       0   5949\n",
              "1                  0      1376       4       0   5831\n",
              "2                  0     30119       5       0  21931\n",
              "3                  1     30119       3       1  21931\n",
              "4                  2    240007       4       2  17215\n",
              "...              ...       ...     ...     ...    ...\n",
              "1229054       876132      2547       5  267818  18493\n",
              "1229055       876133  11047097       4  267819   1380\n",
              "1229056       876144   7433930       5  267820  32082\n",
              "1229057       876144  16170625       5  267820   8714\n",
              "1229058       876144  16101638       4  267820   8507\n",
              "\n",
              "[1229059 rows x 5 columns]"
            ],
            "text/html": [
              "\n",
              "  <div id=\"df-42575817-1cbe-4f80-891b-cc1bcba3f449\">\n",
              "    <div class=\"colab-df-container\">\n",
              "      <div>\n",
              "<style scoped>\n",
              "    .dataframe tbody tr th:only-of-type {\n",
              "        vertical-align: middle;\n",
              "    }\n",
              "\n",
              "    .dataframe tbody tr th {\n",
              "        vertical-align: top;\n",
              "    }\n",
              "\n",
              "    .dataframe thead th {\n",
              "        text-align: right;\n",
              "    }\n",
              "</style>\n",
              "<table border=\"1\" class=\"dataframe\">\n",
              "  <thead>\n",
              "    <tr style=\"text-align: right;\">\n",
              "      <th></th>\n",
              "      <th>user_id_csv</th>\n",
              "      <th>book_id</th>\n",
              "      <th>rating</th>\n",
              "      <th>uid</th>\n",
              "      <th>bid</th>\n",
              "    </tr>\n",
              "  </thead>\n",
              "  <tbody>\n",
              "    <tr>\n",
              "      <th>0</th>\n",
              "      <td>0</td>\n",
              "      <td>1384</td>\n",
              "      <td>4</td>\n",
              "      <td>0</td>\n",
              "      <td>5949</td>\n",
              "    </tr>\n",
              "    <tr>\n",
              "      <th>1</th>\n",
              "      <td>0</td>\n",
              "      <td>1376</td>\n",
              "      <td>4</td>\n",
              "      <td>0</td>\n",
              "      <td>5831</td>\n",
              "    </tr>\n",
              "    <tr>\n",
              "      <th>2</th>\n",
              "      <td>0</td>\n",
              "      <td>30119</td>\n",
              "      <td>5</td>\n",
              "      <td>0</td>\n",
              "      <td>21931</td>\n",
              "    </tr>\n",
              "    <tr>\n",
              "      <th>3</th>\n",
              "      <td>1</td>\n",
              "      <td>30119</td>\n",
              "      <td>3</td>\n",
              "      <td>1</td>\n",
              "      <td>21931</td>\n",
              "    </tr>\n",
              "    <tr>\n",
              "      <th>4</th>\n",
              "      <td>2</td>\n",
              "      <td>240007</td>\n",
              "      <td>4</td>\n",
              "      <td>2</td>\n",
              "      <td>17215</td>\n",
              "    </tr>\n",
              "    <tr>\n",
              "      <th>...</th>\n",
              "      <td>...</td>\n",
              "      <td>...</td>\n",
              "      <td>...</td>\n",
              "      <td>...</td>\n",
              "      <td>...</td>\n",
              "    </tr>\n",
              "    <tr>\n",
              "      <th>1229054</th>\n",
              "      <td>876132</td>\n",
              "      <td>2547</td>\n",
              "      <td>5</td>\n",
              "      <td>267818</td>\n",
              "      <td>18493</td>\n",
              "    </tr>\n",
              "    <tr>\n",
              "      <th>1229055</th>\n",
              "      <td>876133</td>\n",
              "      <td>11047097</td>\n",
              "      <td>4</td>\n",
              "      <td>267819</td>\n",
              "      <td>1380</td>\n",
              "    </tr>\n",
              "    <tr>\n",
              "      <th>1229056</th>\n",
              "      <td>876144</td>\n",
              "      <td>7433930</td>\n",
              "      <td>5</td>\n",
              "      <td>267820</td>\n",
              "      <td>32082</td>\n",
              "    </tr>\n",
              "    <tr>\n",
              "      <th>1229057</th>\n",
              "      <td>876144</td>\n",
              "      <td>16170625</td>\n",
              "      <td>5</td>\n",
              "      <td>267820</td>\n",
              "      <td>8714</td>\n",
              "    </tr>\n",
              "    <tr>\n",
              "      <th>1229058</th>\n",
              "      <td>876144</td>\n",
              "      <td>16101638</td>\n",
              "      <td>4</td>\n",
              "      <td>267820</td>\n",
              "      <td>8507</td>\n",
              "    </tr>\n",
              "  </tbody>\n",
              "</table>\n",
              "<p>1229059 rows × 5 columns</p>\n",
              "</div>\n",
              "      <button class=\"colab-df-convert\" onclick=\"convertToInteractive('df-42575817-1cbe-4f80-891b-cc1bcba3f449')\"\n",
              "              title=\"Convert this dataframe to an interactive table.\"\n",
              "              style=\"display:none;\">\n",
              "        \n",
              "  <svg xmlns=\"http://www.w3.org/2000/svg\" height=\"24px\"viewBox=\"0 0 24 24\"\n",
              "       width=\"24px\">\n",
              "    <path d=\"M0 0h24v24H0V0z\" fill=\"none\"/>\n",
              "    <path d=\"M18.56 5.44l.94 2.06.94-2.06 2.06-.94-2.06-.94-.94-2.06-.94 2.06-2.06.94zm-11 1L8.5 8.5l.94-2.06 2.06-.94-2.06-.94L8.5 2.5l-.94 2.06-2.06.94zm10 10l.94 2.06.94-2.06 2.06-.94-2.06-.94-.94-2.06-.94 2.06-2.06.94z\"/><path d=\"M17.41 7.96l-1.37-1.37c-.4-.4-.92-.59-1.43-.59-.52 0-1.04.2-1.43.59L10.3 9.45l-7.72 7.72c-.78.78-.78 2.05 0 2.83L4 21.41c.39.39.9.59 1.41.59.51 0 1.02-.2 1.41-.59l7.78-7.78 2.81-2.81c.8-.78.8-2.07 0-2.86zM5.41 20L4 18.59l7.72-7.72 1.47 1.35L5.41 20z\"/>\n",
              "  </svg>\n",
              "      </button>\n",
              "      \n",
              "  <style>\n",
              "    .colab-df-container {\n",
              "      display:flex;\n",
              "      flex-wrap:wrap;\n",
              "      gap: 12px;\n",
              "    }\n",
              "\n",
              "    .colab-df-convert {\n",
              "      background-color: #E8F0FE;\n",
              "      border: none;\n",
              "      border-radius: 50%;\n",
              "      cursor: pointer;\n",
              "      display: none;\n",
              "      fill: #1967D2;\n",
              "      height: 32px;\n",
              "      padding: 0 0 0 0;\n",
              "      width: 32px;\n",
              "    }\n",
              "\n",
              "    .colab-df-convert:hover {\n",
              "      background-color: #E2EBFA;\n",
              "      box-shadow: 0px 1px 2px rgba(60, 64, 67, 0.3), 0px 1px 3px 1px rgba(60, 64, 67, 0.15);\n",
              "      fill: #174EA6;\n",
              "    }\n",
              "\n",
              "    [theme=dark] .colab-df-convert {\n",
              "      background-color: #3B4455;\n",
              "      fill: #D2E3FC;\n",
              "    }\n",
              "\n",
              "    [theme=dark] .colab-df-convert:hover {\n",
              "      background-color: #434B5C;\n",
              "      box-shadow: 0px 1px 3px 1px rgba(0, 0, 0, 0.15);\n",
              "      filter: drop-shadow(0px 1px 2px rgba(0, 0, 0, 0.3));\n",
              "      fill: #FFFFFF;\n",
              "    }\n",
              "  </style>\n",
              "\n",
              "      <script>\n",
              "        const buttonEl =\n",
              "          document.querySelector('#df-42575817-1cbe-4f80-891b-cc1bcba3f449 button.colab-df-convert');\n",
              "        buttonEl.style.display =\n",
              "          google.colab.kernel.accessAllowed ? 'block' : 'none';\n",
              "\n",
              "        async function convertToInteractive(key) {\n",
              "          const element = document.querySelector('#df-42575817-1cbe-4f80-891b-cc1bcba3f449');\n",
              "          const dataTable =\n",
              "            await google.colab.kernel.invokeFunction('convertToInteractive',\n",
              "                                                     [key], {});\n",
              "          if (!dataTable) return;\n",
              "\n",
              "          const docLinkHtml = 'Like what you see? Visit the ' +\n",
              "            '<a target=\"_blank\" href=https://colab.research.google.com/notebooks/data_table.ipynb>data table notebook</a>'\n",
              "            + ' to learn more about interactive tables.';\n",
              "          element.innerHTML = '';\n",
              "          dataTable['output_type'] = 'display_data';\n",
              "          await google.colab.output.renderOutput(dataTable, element);\n",
              "          const docLink = document.createElement('div');\n",
              "          docLink.innerHTML = docLinkHtml;\n",
              "          element.appendChild(docLink);\n",
              "        }\n",
              "      </script>\n",
              "    </div>\n",
              "  </div>\n",
              "  "
            ]
          },
          "metadata": {},
          "execution_count": 30
        }
      ]
    },
    {
      "cell_type": "markdown",
      "source": [
        "Steps to generate the matrix factorization embeddings"
      ],
      "metadata": {
        "id": "MYyrW_QBy9f_"
      }
    },
    {
      "cell_type": "code",
      "source": [
        "def preprocessing(training_data):\n",
        "  \"\"\"\n",
        "  Arguments:\n",
        "  training data (str-type numpy.array): the training data containing user_id, movie_id, and normalized rating (0-1) information.\n",
        "\n",
        "  Returns:\n",
        "  R_ui (dictionary of dictionaries): this dictionary contains rating information of each user. \n",
        "   - The key is user_id (string), the value is a dictionary whose key is item_id (string) and value is rating (float).\n",
        "   - Thus, R_ui['1']['260'] = 1.0. R_ui should be computed with training data.\n",
        "  R_iu (dictionary of dictionaries): it is similar to R_ui, but the key of a dictionary is item_id (string). \n",
        "   - Thus, R_ui['260']['1'] = 1.0. R_iu should be computed with training data.\n",
        "\n",
        "  Steps:\n",
        "  1. for each training example with (user u, item i, and rating r), R_ui[u][i] should be r (float). R_iu can be computed similarly.\n",
        "  \"\"\"\n",
        "  R_ui,R_iu = defaultdict(dict),defaultdict(dict)\n",
        "\n",
        "  ## Add code below [0.5 points] ##\n",
        "\n",
        "  for index in tqdm(range(len(training_data)),desc=\"Complete...\"):\n",
        "    \n",
        "    u_id = str(training_data.loc[index]['user_id_csv'])\n",
        "    it_id = str(training_data.loc[index]['book_id'])\n",
        "    r = float(training_data.loc[index]['rating'])\n",
        "\n",
        "    R_ui[u_id][it_id] = r\n",
        "    R_iu[it_id][u_id] = r\n",
        "\n",
        "  \n",
        "  #################################\n",
        "  return R_ui,R_iu"
      ],
      "metadata": {
        "id": "IST7lNj76Sa8"
      },
      "execution_count": null,
      "outputs": []
    },
    {
      "cell_type": "code",
      "source": [
        "R_ui,R_iu = preprocessing(non_zero)"
      ],
      "metadata": {
        "colab": {
          "base_uri": "https://localhost:8080/"
        },
        "id": "5gHE8Ymy9kpi",
        "outputId": "db793b3d-3568-496e-8146-539b43f5bb9e"
      },
      "execution_count": null,
      "outputs": [
        {
          "output_type": "stream",
          "name": "stderr",
          "text": [
            "Complete...: 100%|██████████| 1229059/1229059 [11:55<00:00, 1718.31it/s]\n"
          ]
        }
      ]
    },
    {
      "cell_type": "code",
      "source": [
        "print('R_ui of user 0 and item 1384 = {}'.format(R_ui[\"0\"]['1384']))\n",
        "print('R_iu of user 30119 and item 1 = {}'.format(R_iu['30119']['1']))"
      ],
      "metadata": {
        "colab": {
          "base_uri": "https://localhost:8080/"
        },
        "id": "KJ7sqzcOIpu9",
        "outputId": "6f92ca08-17f3-49eb-eb3b-137607fcc24b"
      },
      "execution_count": null,
      "outputs": [
        {
          "output_type": "stream",
          "name": "stdout",
          "text": [
            "R_ui of user 0 and item 1384 = 4.0\n",
            "R_iu of user 30119 and item 1 = 3.0\n"
          ]
        }
      ]
    },
    {
      "cell_type": "code",
      "source": [
        "def gradient_descent_update(U,V,K):\n",
        "  \"\"\"\n",
        "  Do not modify this function. There is a -2.0 point penalty if you modify this function.\n",
        "\n",
        "  Arguments: \n",
        "  U,V (dictionary of numpy.array): current user and item profile dictionaries. \n",
        "   - The key is either user_id or item_id, and the value is the corresponding user or item profile (numpy.array; dim:K).\n",
        "  K (int): the number of latent factors.\n",
        "\n",
        "  Returns:\n",
        "  Updated U,V (dictionary of numpy.array): updated user and item profile dictionaries. \n",
        "   - The key is either user_id or item_id, and the value is the corresponding user or item profile (numpy.array; dim:K).\n",
        "  \"\"\"\n",
        "  mu = 0.00001\n",
        "  lambda_value = 0.00001\n",
        "  for user in U.keys():\n",
        "    updates = np.zeros(K)\n",
        "    for item in R_ui[user].keys():\n",
        "      pred = np.inner(U[user],V[item])\n",
        "      error = R_ui[user][item] - pred\n",
        "      updates += error*V[item]\n",
        "    final_updates = 2*mu*updates - 2*lambda_value*U[user]\n",
        "    U[user] += final_updates\n",
        "\n",
        "  for item in V.keys():\n",
        "    updates = np.zeros(K)\n",
        "    for user in R_iu[item].keys():\n",
        "      pred = np.inner(U[user],V[item])\n",
        "      error = R_iu[item][user] - pred\n",
        "      updates += error*U[user]\n",
        "    final_updates = 2*mu*updates - 2*lambda_value*V[item]\n",
        "    V[item] += final_updates\n",
        "  return U,V"
      ],
      "metadata": {
        "id": "mfUQ-hbD-259"
      },
      "execution_count": null,
      "outputs": []
    },
    {
      "cell_type": "code",
      "source": [
        "def matrix_factorization (training_data, K=15, epochs = 100):\n",
        "  \"\"\"\n",
        "  Arguments:\n",
        "  training data (str-type numpy.array): the training data containing user_id, movie_id, and normalized rating (0-1) information.\n",
        "  K (int): number of latent factors used for matrix factorization.\n",
        "  epochs (int): number of repetitions of the updates of U and V.\n",
        "\n",
        "  Returns:\n",
        "  U,V (dictionary of float-type numpy.array): learned user and item profile dictionaries. \n",
        "   - The key is either user_id or item_id, and the value is the corresponding user or item profile (float-type numpy.array; dim:K).\n",
        "\n",
        "  Steps for the first code block:\n",
        "  1. compute the maximum value using 'sqrt(avg(ratings of all training examples)/K)' for the initialization (ratings of all training examples should be float-type, not str-type here).\n",
        "  2. for each user u in training_data, initialize the value of U[u] with a size-K numpy.array (float) filled with random values between 0 the maximum value.\n",
        "  3. initialize V[v] for each item v in training_data like step 2.\n",
        "      - when you assign the initial value, please use R_ui.keys(), R_iu.keys() to keep the order and to avoid multiple initialization.\n",
        "  \"\"\"\n",
        "\n",
        "  np.random.seed(0)\n",
        "  U,V = defaultdict(np.array),defaultdict(np.array)\n",
        "\n",
        "  ## Add code below [1.0 points] ##\n",
        "\n",
        "  avg_rating = np.mean(training_data[:,2].astype(float))\n",
        "\n",
        "  max_value = (avg_rating/K)**0.5\n",
        "\n",
        "  users = list(R_ui.keys())\n",
        "  items = list(R_iu.keys())\n",
        "\n",
        "  for user in users:\n",
        "    U[user] = np.random.uniform(low=0,high=max_value,size=K).astype(float)\n",
        "\n",
        "  for item in items:\n",
        "    V[item] = np.random.uniform(low=0,high=max_value,size=K).astype(float)\n",
        "\n",
        "  #################################\n",
        "\n",
        "  \"\"\"\n",
        "  Steps for the second code block:\n",
        "  1. for each iteration, call the gradient_descent_update with current U and V.\n",
        "  2. update the user and item profile matrices with the returned U and V.\n",
        "  \"\"\"\n",
        "  ## Add code below [1.0 points] ##\n",
        "\n",
        "  for j in tqdm(range(epochs),desc='Completed......'):\n",
        "    U,V = gradient_descent_update(U,V,K)\n",
        "\n",
        "  #################################\n",
        "  return U,V"
      ],
      "metadata": {
        "id": "zb7MzdTe-3Ds"
      },
      "execution_count": null,
      "outputs": []
    },
    {
      "cell_type": "code",
      "source": [
        "training_data = np.array(non_zero,dtype=np.float64)"
      ],
      "metadata": {
        "id": "AzByEoTq_fUO"
      },
      "execution_count": null,
      "outputs": []
    },
    {
      "cell_type": "markdown",
      "source": [
        "Generate the user and item embeddings using matrix factorization "
      ],
      "metadata": {
        "id": "G4ms5dPCxZC4"
      }
    },
    {
      "cell_type": "code",
      "source": [
        "(W,H) = matrix_factorization(training_data)"
      ],
      "metadata": {
        "colab": {
          "base_uri": "https://localhost:8080/"
        },
        "id": "6rQFOuom_NFU",
        "outputId": "9e07a6e0-d105-4213-bb74-e557bf1491c8"
      },
      "execution_count": null,
      "outputs": [
        {
          "output_type": "stream",
          "name": "stderr",
          "text": [
            "Completed......: 100%|██████████| 100/100 [35:30<00:00, 21.30s/it]\n"
          ]
        }
      ]
    },
    {
      "cell_type": "code",
      "source": [
        "with open('user.pickle', 'wb') as handle:\n",
        "    pickle.dump(W, handle, protocol=pickle.HIGHEST_PROTOCOL)"
      ],
      "metadata": {
        "id": "-0hWRcLmI_VZ"
      },
      "execution_count": null,
      "outputs": []
    },
    {
      "cell_type": "code",
      "source": [
        "with open('item.pickle', 'wb') as handle:\n",
        "    pickle.dump(H, handle, protocol=pickle.HIGHEST_PROTOCOL)"
      ],
      "metadata": {
        "id": "EV7h4JmnJji2"
      },
      "execution_count": null,
      "outputs": []
    },
    {
      "cell_type": "markdown",
      "source": [
        "Steps to generate the interactions_genres.csv"
      ],
      "metadata": {
        "id": "Cjyxix_eyONO"
      }
    },
    {
      "cell_type": "code",
      "source": [
        "df = non_zero"
      ],
      "metadata": {
        "id": "1yyOrlQ5yVyG"
      },
      "execution_count": null,
      "outputs": []
    },
    {
      "cell_type": "code",
      "source": [
        "book_map = pd.read_csv('book_id_map.csv')\n",
        "book_review = pd.json_normalize(load_data('goodreads_book_genres_initial.json.gz'))\n",
        "book_review.to_csv('book_genres.csv')"
      ],
      "metadata": {
        "id": "kFuD5xmL2pEV"
      },
      "execution_count": null,
      "outputs": []
    },
    {
      "cell_type": "code",
      "source": [
        "book_genres = pd.read_csv('/content/drive/MyDrive/6240_project/project_data/book_genres.csv')\n",
        "book_genres.fillna(value=0,inplace=True)"
      ],
      "metadata": {
        "id": "2_cjBP4Ix5Bf"
      },
      "execution_count": null,
      "outputs": []
    },
    {
      "cell_type": "code",
      "source": [
        "cols = list(book_genres.columns)\n",
        "book_genres = book_genres[cols[1:]]\n",
        "book_genres.set_index('book_id',inplace=True)"
      ],
      "metadata": {
        "id": "HdKqeGXJx5ED"
      },
      "execution_count": null,
      "outputs": []
    },
    {
      "cell_type": "code",
      "source": [
        "book_genres.columns"
      ],
      "metadata": {
        "id": "RthDi7lZx5GI"
      },
      "execution_count": null,
      "outputs": []
    },
    {
      "cell_type": "code",
      "source": [
        "def get_genre_id(book_id):\n",
        "\n",
        "  a = g[book_id]\n",
        "\n",
        "  return list(book_genres.loc[a].values)\n",
        "\n"
      ],
      "metadata": {
        "id": "N9mMPpJQx5Ie"
      },
      "execution_count": null,
      "outputs": []
    },
    {
      "cell_type": "code",
      "source": [
        "genres = []"
      ],
      "metadata": {
        "id": "RgdDR5iXx5K1"
      },
      "execution_count": null,
      "outputs": []
    },
    {
      "cell_type": "code",
      "source": [
        "for i in tqdm(range(len(df))):\n",
        "  genres.append(get_genre_id(df.loc[i]['bid']))"
      ],
      "metadata": {
        "id": "i4YHXcGzx5M6"
      },
      "execution_count": null,
      "outputs": []
    },
    {
      "cell_type": "code",
      "source": [
        "df['genres'] = genres"
      ],
      "metadata": {
        "id": "9nKzJ-4hx5Pj"
      },
      "execution_count": null,
      "outputs": []
    },
    {
      "cell_type": "code",
      "source": [
        "df.to_csv('interactions_genres.csv')"
      ],
      "metadata": {
        "id": "gMri9i9Qx5Rm"
      },
      "execution_count": null,
      "outputs": []
    }
  ]
} 

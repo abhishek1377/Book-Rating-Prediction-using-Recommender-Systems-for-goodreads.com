{
  "cells": [
    {
      "cell_type": "code",
      "execution_count": null,
      "id": "d72d2bbc-e810-4cab-ab10-a042638bfaa8",
      "metadata": {
        "id": "d72d2bbc-e810-4cab-ab10-a042638bfaa8"
      },
      "outputs": [],
      "source": [
        "import numpy as np\n",
        "import pandas as pd\n",
        "import torch\n",
        "import torch.nn as nn\n",
        "import time\n",
        "from collections import defaultdict\n",
        "from scipy.spatial import distance\n",
        "import pickle\n",
        "from tqdm import tqdm\n",
        "from sklearn.model_selection import train_test_split\n",
        "import matplotlib.pyplot as plt\n",
        "import tensorflow as tf\n"
      ]
    },
    {
      "cell_type": "code",
      "source": [
        "from tensorflow.keras.models import Sequential\n",
        "from tensorflow.keras.layers import Flatten\n",
        "from tensorflow.keras.layers import Dense\n",
        "from tensorflow.keras.layers import Activation"
      ],
      "metadata": {
        "id": "qY0zexHPxr2V"
      },
      "id": "qY0zexHPxr2V",
      "execution_count": null,
      "outputs": []
    },
    {
      "cell_type": "code",
      "source": [
        "model = Sequential([\n",
        "    \n",
        "    # reshape 28 row * 28 column data to 28*28 rows\n",
        "    Flatten(input_shape=(7,1)),\n",
        "    \n",
        "      # dense layer 1\n",
        "    Dense(32, activation='sigmoid'),  \n",
        "    \n",
        "    # dense layer 2\n",
        "    Dense(32, activation='sigmoid'),\n",
        "\n",
        "    Dense(32, activation='sigmoid'),\n",
        "    Dense(32, activation='sigmoid'), \n",
        "      # output layer\n",
        "    Dense(1, activation='sigmoid'),  \n",
        "])\n",
        "\n",
        "model"
      ],
      "metadata": {
        "colab": {
          "base_uri": "https://localhost:8080/"
        },
        "id": "1HCCS04jxaeE",
        "outputId": "f9dd3056-58dd-4dbe-8420-84add8c878fa"
      },
      "id": "1HCCS04jxaeE",
      "execution_count": null,
      "outputs": [
        {
          "output_type": "execute_result",
          "data": {
            "text/plain": [
              "<keras.engine.sequential.Sequential at 0x7f879f1990d0>"
            ]
          },
          "metadata": {},
          "execution_count": 3
        }
      ]
    },
    {
      "cell_type": "code",
      "source": [
        "model.summary()"
      ],
      "metadata": {
        "id": "zNb6RVB8xxiI",
        "outputId": "ba67111b-d72b-4612-84e8-22359b51279f",
        "colab": {
          "base_uri": "https://localhost:8080/"
        }
      },
      "id": "zNb6RVB8xxiI",
      "execution_count": null,
      "outputs": [
        {
          "output_type": "stream",
          "name": "stdout",
          "text": [
            "Model: \"sequential\"\n",
            "_________________________________________________________________\n",
            " Layer (type)                Output Shape              Param #   \n",
            "=================================================================\n",
            " flatten (Flatten)           (None, 7)                 0         \n",
            "                                                                 \n",
            " dense (Dense)               (None, 32)                256       \n",
            "                                                                 \n",
            " dense_1 (Dense)             (None, 32)                1056      \n",
            "                                                                 \n",
            " dense_2 (Dense)             (None, 32)                1056      \n",
            "                                                                 \n",
            " dense_3 (Dense)             (None, 32)                1056      \n",
            "                                                                 \n",
            " dense_4 (Dense)             (None, 1)                 33        \n",
            "                                                                 \n",
            "=================================================================\n",
            "Total params: 3,457\n",
            "Trainable params: 3,457\n",
            "Non-trainable params: 0\n",
            "_________________________________________________________________\n"
          ]
        }
      ]
    },
    {
      "cell_type": "code",
      "source": [
        "from google.colab import drive\n",
        "drive.mount('/content/drive')"
      ],
      "metadata": {
        "colab": {
          "base_uri": "https://localhost:8080/"
        },
        "id": "f0S8tt4dnYQj",
        "outputId": "b97ea2f0-a29c-4f5f-eaae-568d5886fc3b"
      },
      "id": "f0S8tt4dnYQj",
      "execution_count": null,
      "outputs": [
        {
          "output_type": "stream",
          "name": "stdout",
          "text": [
            "Mounted at /content/drive\n"
          ]
        }
      ]
    },
    {
      "cell_type": "code",
      "source": [
        "cd /content/drive/MyDrive/6240_project/project_data/"
      ],
      "metadata": {
        "colab": {
          "base_uri": "https://localhost:8080/"
        },
        "id": "mMofIl-qngqP",
        "outputId": "ec76d4a7-6294-41dc-baef-c4394cf2f22b"
      },
      "id": "mMofIl-qngqP",
      "execution_count": null,
      "outputs": [
        {
          "output_type": "stream",
          "name": "stdout",
          "text": [
            "/content/drive/MyDrive/6240_project/project_data\n"
          ]
        }
      ]
    },
    {
      "cell_type": "code",
      "source": [
        "df = pd.read_csv('/content/drive/MyDrive/6240_project/project_data/interaction.csv')"
      ],
      "metadata": {
        "id": "oDF21CWYUSgO"
      },
      "id": "oDF21CWYUSgO",
      "execution_count": null,
      "outputs": []
    },
    {
      "cell_type": "code",
      "source": [
        "train_data, test_data = train_test_split(df,test_size=0.2)"
      ],
      "metadata": {
        "id": "rCx1G3C6srSD"
      },
      "id": "rCx1G3C6srSD",
      "execution_count": null,
      "outputs": []
    },
    {
      "cell_type": "code",
      "source": [
        "train_data.reset_index(drop=True,inplace=True)\n",
        "test_data.reset_index(drop=True,inplace=True)"
      ],
      "metadata": {
        "id": "U404RHSiuE3A"
      },
      "id": "U404RHSiuE3A",
      "execution_count": null,
      "outputs": []
    },
    {
      "cell_type": "code",
      "execution_count": null,
      "id": "de4308d9-e656-4b1f-8cb9-64e7692f39aa",
      "metadata": {
        "id": "de4308d9-e656-4b1f-8cb9-64e7692f39aa"
      },
      "outputs": [],
      "source": [
        "user_indices = train_data['uid']"
      ]
    },
    {
      "cell_type": "code",
      "source": [
        "item_indices = train_data['bid']"
      ],
      "metadata": {
        "id": "9rJzlCQBVHBn"
      },
      "id": "9rJzlCQBVHBn",
      "execution_count": null,
      "outputs": []
    },
    {
      "cell_type": "code",
      "source": [
        "ratings = train_data['rating']"
      ],
      "metadata": {
        "id": "QvkklPvPYuKW"
      },
      "id": "QvkklPvPYuKW",
      "execution_count": null,
      "outputs": []
    },
    {
      "cell_type": "code",
      "source": [
        "test_users = torch.LongTensor(test_data['uid'])\n",
        "test_items = torch.LongTensor(test_data['bid'])\n",
        "test_ratings = torch.LongTensor(test_data['rating'])"
      ],
      "metadata": {
        "id": "AhsysdyNs3pd"
      },
      "id": "AhsysdyNs3pd",
      "execution_count": null,
      "outputs": []
    },
    {
      "cell_type": "code",
      "source": [
        "from torch.utils.data import DataLoader, Dataset\n",
        "class UserItemRatingDataset(Dataset):\n",
        "    \"\"\"Wrapper, convert <user, item, rating> Tensor into Pytorch Dataset\"\"\"\n",
        "    def __init__(self, user_tensor, item_tensor, target_tensor):\n",
        "        \"\"\"\n",
        "        args:\n",
        "            target_tensor: torch.Tensor, the corresponding rating for <user, item> pair\n",
        "        \"\"\"\n",
        "        self.user_tensor = user_tensor\n",
        "        self.item_tensor = item_tensor\n",
        "        self.target_tensor = target_tensor\n",
        "\n",
        "    def __getitem__(self, index):\n",
        "        return self.user_tensor[index], self.item_tensor[index], self.target_tensor[index]\n",
        "\n",
        "    def __len__(self):\n",
        "        return self.user_tensor.size(0)"
      ],
      "metadata": {
        "id": "QjyAjj5XYbHW"
      },
      "id": "QjyAjj5XYbHW",
      "execution_count": null,
      "outputs": []
    },
    {
      "cell_type": "code",
      "source": [
        "dataset = UserItemRatingDataset(user_tensor=torch.LongTensor(user_indices),\n",
        "                                        item_tensor=torch.LongTensor(item_indices),\n",
        "                                        target_tensor=torch.FloatTensor(ratings))\n",
        "data_loader = DataLoader(dataset, batch_size=256, shuffle=True)"
      ],
      "metadata": {
        "id": "mqLpy2IZYiaA"
      },
      "id": "mqLpy2IZYiaA",
      "execution_count": null,
      "outputs": []
    },
    {
      "cell_type": "code",
      "source": [
        "class MLP(torch.nn.Module):\n",
        "    def __init__(self):\n",
        "        super(MLP, self).__init__()\n",
        "        # self.config = config\n",
        "        # self.num_users = config['num_users']\n",
        "        # self.num_items = config['num_items']\n",
        "        # self.latent_dim = config['latent_dim']\n",
        "\n",
        "        self.num_users = 267821\n",
        "        self.num_items = 36182\n",
        "        self.latent_dim = 64\n",
        "\n",
        "        self.embedding_user = torch.nn.Embedding(num_embeddings=self.num_users, embedding_dim=self.latent_dim)\n",
        "        self.embedding_item = torch.nn.Embedding(num_embeddings=self.num_items, embedding_dim=self.latent_dim)\n",
        "\n",
        "        config = {}\n",
        "        config['layers'] = [128,64,32,16,8]\n",
        "        self.output = nn.Linear(8,1)\n",
        "        self.relu = nn.ReLU()\n",
        "        \n",
        "        self.fc_layers = torch.nn.ModuleList()\n",
        "        for idx, (in_size, out_size) in enumerate(zip(config['layers'][:-1], config['layers'][1:])):\n",
        "            self.fc_layers.append(torch.nn.Linear(in_size, out_size))\n",
        "\n",
        "        # self.affine_output = torch.nn.Linear(in_features=config['layers'][-1], out_features=1)\n",
        "        # self.logistic = torch.nn.Sigmoid()\n",
        "\n",
        "\n",
        "    def forward(self, user_indices, item_indices):\n",
        "        user_embedding = self.embedding_user(user_indices)\n",
        "        item_embedding = self.embedding_item(item_indices)\n",
        "        # print(user_embedding.shape,item_embedding.shape)\n",
        "        vector = torch.cat([user_embedding, item_embedding], dim=-1)  # the concat latent vector\n",
        "        for idx, _ in enumerate(range(len(self.fc_layers))):\n",
        "            vector = self.fc_layers[idx](vector)\n",
        "            vector = torch.nn.ReLU()(vector)\n",
        "            # vector = torch.nn.BatchNorm1d()(vector)\n",
        "            # vector = torch.nn.Dropout(p=0.5)(vector)\n",
        "        \n",
        "        # x = vector\n",
        "        x = self.output(vector)\n",
        "        output = self.relu(x)\n",
        "\n",
        "        # logits = self.affine_output(vector)\n",
        "        # rating = self.logistic(logits)\n",
        "        # return rating\n",
        "        return output\n"
      ],
      "metadata": {
        "id": "99C7xTYVOWMt"
      },
      "id": "99C7xTYVOWMt",
      "execution_count": null,
      "outputs": []
    },
    {
      "cell_type": "code",
      "execution_count": null,
      "id": "76838341-90ca-4666-846a-75534ddc2ffb",
      "metadata": {
        "colab": {
          "base_uri": "https://localhost:8080/"
        },
        "id": "76838341-90ca-4666-846a-75534ddc2ffb",
        "outputId": "fe9d535c-c013-4e9a-eafd-34ab52a2173b"
      },
      "outputs": [
        {
          "output_type": "execute_result",
          "data": {
            "text/plain": [
              "MLP(\n",
              "  (embedding_user): Embedding(267821, 64)\n",
              "  (embedding_item): Embedding(36182, 64)\n",
              "  (output): Linear(in_features=8, out_features=1, bias=True)\n",
              "  (relu): ReLU()\n",
              "  (fc_layers): ModuleList(\n",
              "    (0): Linear(in_features=128, out_features=64, bias=True)\n",
              "    (1): Linear(in_features=64, out_features=32, bias=True)\n",
              "    (2): Linear(in_features=32, out_features=16, bias=True)\n",
              "    (3): Linear(in_features=16, out_features=8, bias=True)\n",
              "  )\n",
              ")"
            ]
          },
          "metadata": {},
          "execution_count": 22
        }
      ],
      "source": [
        "MLP_model = MLP()\n",
        "MLP_model.cuda()"
      ]
    },
    {
      "cell_type": "code",
      "source": [
        "MAE_list = []\n",
        "MSE_list = []\n",
        "RMSE_list = []"
      ],
      "metadata": {
        "id": "Kn31MRdqDBfi"
      },
      "id": "Kn31MRdqDBfi",
      "execution_count": null,
      "outputs": []
    },
    {
      "cell_type": "code",
      "source": [
        "assert torch.cuda.is_available(), 'CUDA is not available'\n",
        "torch.cuda.set_device(0)"
      ],
      "metadata": {
        "id": "GsSDP3pjf23p"
      },
      "id": "GsSDP3pjf23p",
      "execution_count": null,
      "outputs": []
    },
    {
      "cell_type": "code",
      "execution_count": null,
      "id": "46a19405-e51f-4e57-b8f5-c747d0c5d08c",
      "metadata": {
        "id": "46a19405-e51f-4e57-b8f5-c747d0c5d08c"
      },
      "outputs": [],
      "source": [
        "def MLP_train(data_loader,MLP_model,test_users,test_items,test_ratings,epochs=15):\n",
        "    \"\"\"\n",
        "    Arguments: \n",
        "    training_data (str-type numpy.array): the training data containing user_id, movie_id, and normalized rating (0-1) information.\n",
        "    user_emb and item_emb (dictionaries of numpy.array): pre-trained embeddings of users and items. \n",
        "    - The keys are user_id (string) and item_id (string), and the values are the corresponding embeddings (numpy.array; dim=32) of user_id and item_id, respectively.\n",
        "    MLP_model (MLP class): the untrained MLP model.\n",
        "    epochs (int): number of iterations required for updating the MLP model.\n",
        "\n",
        "    Returns:\n",
        "    MLP_model (MLP class): the MLP model trained with given training data and pre-trained embeddings.\n",
        "\n",
        "    Steps for the first code block:\n",
        "    1. for each training example, retrieve pre-trained embeddings for a user u and item i.\n",
        "    2. concatenate those embeddings by np.concatenate((user_emb_of_u,item_emb_of_i)) and append it to a list.\n",
        "    3. convert a list of concatenated embeddings to a PyTorch FloatTensor by torch.FloatTensor(np.array(list)).\n",
        "    \"\"\"\n",
        "    torch.manual_seed(0)\n",
        "    np.random.seed(0)\n",
        "\n",
        "    # input_data = torch.FloatTensor(np.array(l))\n",
        "\n",
        "  #################################\n",
        "  \n",
        "    criterion = nn.MSELoss()\n",
        "    optimizer = torch.optim.Adam(MLP_model.parameters(),weight_decay=5e-5)\n",
        "\n",
        "    for epoch in tqdm(range(epochs)):\n",
        "        \"\"\"  \n",
        "    Steps for the second code block:\n",
        "    1. set the gradients to zero before backpropragation by optimizer.zero_grad().\n",
        "    2. call the prediction function of the MLP model by MLP_model(input_data).flatten() and obtain the prediction result for the input data, \n",
        "       where the input data is a PyTorch FloatTensor from Step 3 of the previous code block.\n",
        "    3. obtain the ground-truth rating values from training_data (in torch.FloatTensor format; use torch.FloatTensor(np.array) for type conversion).\n",
        "    4. compute the loss by loss=criterion(prediction,ground_truth).\n",
        "    5. perform backpropragation by loss.backward().\n",
        "    6. update the model parameters by optimizer.step().\n",
        "    7. compute the differences between the prediction and ground_truth by (prediction-ground_truth).detach().numpy().\n",
        "    8. compute and print training RMSE using the differences for every 10 epochs (epoch 0, epoch 10, ..., epoch 190).\n",
        "        - Don't use loss in Step 4 to derive training RMSE \n",
        "        \"\"\"\n",
        "        optimizer.zero_grad()\n",
        "\n",
        "        for batch_id, batch in enumerate(data_loader):\n",
        "            # assert isinstance(batch[0], torch.LongTensor)\n",
        "            # print(batch_id)\n",
        "            user, item, rating = batch[0], batch[1], batch[2]\n",
        "            user, item, rating = user.cuda(), item.cuda(), rating.cuda()\n",
        "            # print(user.shape,rating.shape,item.shape)\n",
        "            prediction = MLP_model(user,item).flatten()\n",
        "            # ground_truth = torch.FloatTensor(training_data[:,2:].astype(np.float32).reshape(len(training_data)))\n",
        "            ground_truth = rating.flatten()\n",
        "\n",
        "            # print(prediction.shape,ground_truth.shape)\n",
        "            \n",
        "            loss = criterion(prediction,ground_truth)\n",
        "            loss.backward()\n",
        "            optimizer.step()\n",
        "\n",
        "            diff = (prediction-ground_truth).detach().cpu().numpy()\n",
        "            rmse = (np.mean(diff**2))**0.5\n",
        "\n",
        "            abs_diff = np.absolute(diff)\n",
        "            mae = np.mean(abs_diff)\n",
        "            if batch_id % 500 == 0:\n",
        "            # # if epoch % 10 == 0:\n",
        "              print(\"rmse:\", rmse, \"mse:\",loss, \"mae:\",mae)\n",
        "              # MAE_list.append(mae)\n",
        "              # MSE_list.append(loss)\n",
        "              # RMSE_list.append(rmse)\n",
        "      \n",
        "        test_users, test_items, test_ratings = test_users.cuda(), test_items.cuda(), test_ratings.cuda()\n",
        "        test_preds = MLP_model(test_users,test_items).flatten()\n",
        "\n",
        "        diff = (test_preds-test_ratings).detach().cpu().numpy()\n",
        "        rmse = (np.mean(diff**2))**0.5\n",
        "\n",
        "        abs_diff = np.absolute(diff)\n",
        "        mae = np.mean(abs_diff)\n",
        "        \n",
        "        print(\"test_metrics........\",\"rmse:\", rmse, \"mse:\",loss, \"mae:\",mae)\n",
        "\n",
        "        MAE_list.append(mae)\n",
        "        MSE_list.append(loss)\n",
        "        RMSE_list.append(rmse)\n",
        "\n",
        "            \n",
        "    #################################\n",
        "    return MLP_model"
      ]
    },
    {
      "cell_type": "code",
      "execution_count": null,
      "id": "2ac7c76b-63bd-4310-8d16-111ac5e650d5",
      "metadata": {
        "colab": {
          "base_uri": "https://localhost:8080/"
        },
        "id": "2ac7c76b-63bd-4310-8d16-111ac5e650d5",
        "outputId": "ab272b02-b6bd-448e-80a9-386fd5c1da50"
      },
      "outputs": [
        {
          "output_type": "stream",
          "name": "stderr",
          "text": [
            "\r  0%|          | 0/15 [00:00<?, ?it/s]"
          ]
        },
        {
          "output_type": "stream",
          "name": "stdout",
          "text": [
            "rmse: 4.064422621972277 mse: tensor(16.5195, device='cuda:0', grad_fn=<MseLossBackward0>) mae: 3.9335938\n",
            "rmse: 4.109820555693399 mse: tensor(16.8906, device='cuda:0', grad_fn=<MseLossBackward0>) mae: 4.0\n",
            "rmse: 3.5179587523106326 mse: tensor(12.3760, device='cuda:0', grad_fn=<MseLossBackward0>) mae: 3.3700595\n",
            "rmse: 1.765858997604329 mse: tensor(3.1183, device='cuda:0', grad_fn=<MseLossBackward0>) mae: 1.5446987\n",
            "rmse: 0.9209513482177814 mse: tensor(0.8482, device='cuda:0', grad_fn=<MseLossBackward0>) mae: 0.74372554\n",
            "rmse: 1.4207440584089712 mse: tensor(2.0185, device='cuda:0', grad_fn=<MseLossBackward0>) mae: 1.2299017\n",
            "rmse: 1.3106024512887562 mse: tensor(1.7177, device='cuda:0', grad_fn=<MseLossBackward0>) mae: 1.1698041\n",
            "rmse: 1.3220644280810885 mse: tensor(1.7479, device='cuda:0', grad_fn=<MseLossBackward0>) mae: 0.9907744\n"
          ]
        },
        {
          "output_type": "stream",
          "name": "stderr",
          "text": [
            "\r  7%|▋         | 1/15 [01:11<16:34, 71.05s/it]"
          ]
        },
        {
          "output_type": "stream",
          "name": "stdout",
          "text": [
            "test_metrics........ rmse: 1.0772488115843695 mse: tensor(1.2319, device='cuda:0', grad_fn=<MseLossBackward0>) mae: 0.9418017\n",
            "rmse: 1.0832361886900155 mse: tensor(1.1734, device='cuda:0', grad_fn=<MseLossBackward0>) mae: 0.9481499\n",
            "rmse: 1.0156273475032966 mse: tensor(1.0315, device='cuda:0', grad_fn=<MseLossBackward0>) mae: 0.81041616\n",
            "rmse: 0.9388583832612272 mse: tensor(0.8815, device='cuda:0', grad_fn=<MseLossBackward0>) mae: 0.73990786\n",
            "rmse: 1.0514152911281203 mse: tensor(1.1055, device='cuda:0', grad_fn=<MseLossBackward0>) mae: 0.824322\n",
            "rmse: 1.0480579695539132 mse: tensor(1.0984, device='cuda:0', grad_fn=<MseLossBackward0>) mae: 0.9016074\n",
            "rmse: 0.9786724033508069 mse: tensor(0.9578, device='cuda:0', grad_fn=<MseLossBackward0>) mae: 0.8355589\n",
            "rmse: 0.9630430151264089 mse: tensor(0.9275, device='cuda:0', grad_fn=<MseLossBackward0>) mae: 0.7835245\n",
            "rmse: 0.9180670827589819 mse: tensor(0.8428, device='cuda:0', grad_fn=<MseLossBackward0>) mae: 0.76236975\n"
          ]
        },
        {
          "output_type": "stream",
          "name": "stderr",
          "text": [
            "\r 13%|█▎        | 2/15 [02:24<15:43, 72.58s/it]"
          ]
        },
        {
          "output_type": "stream",
          "name": "stdout",
          "text": [
            "test_metrics........ rmse: 1.0464819554624536 mse: tensor(1.0595, device='cuda:0', grad_fn=<MseLossBackward0>) mae: 0.835371\n",
            "rmse: 1.007145032232964 mse: tensor(1.0143, device='cuda:0', grad_fn=<MseLossBackward0>) mae: 0.8019578\n",
            "rmse: 0.9692758548093363 mse: tensor(0.9395, device='cuda:0', grad_fn=<MseLossBackward0>) mae: 0.795833\n",
            "rmse: 1.1067694570495425 mse: tensor(1.2249, device='cuda:0', grad_fn=<MseLossBackward0>) mae: 0.94092643\n",
            "rmse: 1.0383011172355012 mse: tensor(1.0781, device='cuda:0', grad_fn=<MseLossBackward0>) mae: 0.88140774\n",
            "rmse: 0.9545055459502348 mse: tensor(0.9111, device='cuda:0', grad_fn=<MseLossBackward0>) mae: 0.7892357\n",
            "rmse: 1.1032846934976988 mse: tensor(1.2172, device='cuda:0', grad_fn=<MseLossBackward0>) mae: 0.8858588\n",
            "rmse: 0.9487669069495068 mse: tensor(0.9002, device='cuda:0', grad_fn=<MseLossBackward0>) mae: 0.80131865\n",
            "rmse: 1.0130094447472318 mse: tensor(1.0262, device='cuda:0', grad_fn=<MseLossBackward0>) mae: 0.87838185\n"
          ]
        },
        {
          "output_type": "stream",
          "name": "stderr",
          "text": [
            "\r 20%|██        | 3/15 [03:34<14:14, 71.22s/it]"
          ]
        },
        {
          "output_type": "stream",
          "name": "stdout",
          "text": [
            "test_metrics........ rmse: 0.9801623713020798 mse: tensor(0.9322, device='cuda:0', grad_fn=<MseLossBackward0>) mae: 0.7788421\n",
            "rmse: 0.9359494420278408 mse: tensor(0.8760, device='cuda:0', grad_fn=<MseLossBackward0>) mae: 0.77157205\n",
            "rmse: 1.011502865178665 mse: tensor(1.0231, device='cuda:0', grad_fn=<MseLossBackward0>) mae: 0.7928933\n",
            "rmse: 0.9180405933592753 mse: tensor(0.8428, device='cuda:0', grad_fn=<MseLossBackward0>) mae: 0.72712576\n",
            "rmse: 0.9754493778180434 mse: tensor(0.9515, device='cuda:0', grad_fn=<MseLossBackward0>) mae: 0.7816359\n",
            "rmse: 1.0080610456714574 mse: tensor(1.0162, device='cuda:0', grad_fn=<MseLossBackward0>) mae: 0.8030671\n",
            "rmse: 0.9938475770848143 mse: tensor(0.9877, device='cuda:0', grad_fn=<MseLossBackward0>) mae: 0.775198\n",
            "rmse: 0.9706372060210926 mse: tensor(0.9421, device='cuda:0', grad_fn=<MseLossBackward0>) mae: 0.76091325\n",
            "rmse: 1.005312635844479 mse: tensor(1.0107, device='cuda:0', grad_fn=<MseLossBackward0>) mae: 0.8198412\n"
          ]
        },
        {
          "output_type": "stream",
          "name": "stderr",
          "text": [
            "\r 27%|██▋       | 4/15 [04:43<12:55, 70.54s/it]"
          ]
        },
        {
          "output_type": "stream",
          "name": "stdout",
          "text": [
            "test_metrics........ rmse: 0.9932655725206523 mse: tensor(0.9826, device='cuda:0', grad_fn=<MseLossBackward0>) mae: 0.79875714\n",
            "rmse: 1.0559398985940198 mse: tensor(1.1150, device='cuda:0', grad_fn=<MseLossBackward0>) mae: 0.82558537\n",
            "rmse: 0.971126870705311 mse: tensor(0.9431, device='cuda:0', grad_fn=<MseLossBackward0>) mae: 0.82113963\n",
            "rmse: 0.9130396540534055 mse: tensor(0.8336, device='cuda:0', grad_fn=<MseLossBackward0>) mae: 0.7374691\n",
            "rmse: 0.8908046072838612 mse: tensor(0.7935, device='cuda:0', grad_fn=<MseLossBackward0>) mae: 0.7077347\n",
            "rmse: 0.969216142300682 mse: tensor(0.9394, device='cuda:0', grad_fn=<MseLossBackward0>) mae: 0.78013945\n",
            "rmse: 0.9424932069305969 mse: tensor(0.8883, device='cuda:0', grad_fn=<MseLossBackward0>) mae: 0.76455414\n",
            "rmse: 1.018938791299126 mse: tensor(1.0382, device='cuda:0', grad_fn=<MseLossBackward0>) mae: 0.8113676\n",
            "rmse: 1.0468699896393627 mse: tensor(1.0959, device='cuda:0', grad_fn=<MseLossBackward0>) mae: 0.8526372\n"
          ]
        },
        {
          "output_type": "stream",
          "name": "stderr",
          "text": [
            "\r 33%|███▎      | 5/15 [05:52<11:39, 69.94s/it]"
          ]
        },
        {
          "output_type": "stream",
          "name": "stdout",
          "text": [
            "test_metrics........ rmse: 1.008812223687408 mse: tensor(1.0302, device='cuda:0', grad_fn=<MseLossBackward0>) mae: 0.81236905\n",
            "rmse: 1.0089722104286303 mse: tensor(1.0180, device='cuda:0', grad_fn=<MseLossBackward0>) mae: 0.79596066\n",
            "rmse: 1.0172948168324893 mse: tensor(1.0349, device='cuda:0', grad_fn=<MseLossBackward0>) mae: 0.85772\n",
            "rmse: 0.9755522728840375 mse: tensor(0.9517, device='cuda:0', grad_fn=<MseLossBackward0>) mae: 0.789166\n",
            "rmse: 0.9811733495332305 mse: tensor(0.9627, device='cuda:0', grad_fn=<MseLossBackward0>) mae: 0.8032963\n",
            "rmse: 0.9137045982864703 mse: tensor(0.8349, device='cuda:0', grad_fn=<MseLossBackward0>) mae: 0.7489833\n",
            "rmse: 0.9671872362373745 mse: tensor(0.9355, device='cuda:0', grad_fn=<MseLossBackward0>) mae: 0.75110054\n",
            "rmse: 1.0184362384686494 mse: tensor(1.0372, device='cuda:0', grad_fn=<MseLossBackward0>) mae: 0.8356495\n",
            "rmse: 0.9138262842901254 mse: tensor(0.8351, device='cuda:0', grad_fn=<MseLossBackward0>) mae: 0.7454729\n"
          ]
        },
        {
          "output_type": "stream",
          "name": "stderr",
          "text": [
            "\r 40%|████      | 6/15 [07:01<10:26, 69.56s/it]"
          ]
        },
        {
          "output_type": "stream",
          "name": "stdout",
          "text": [
            "test_metrics........ rmse: 0.9929518871541269 mse: tensor(1.0606, device='cuda:0', grad_fn=<MseLossBackward0>) mae: 0.80880004\n",
            "rmse: 1.0237452502949773 mse: tensor(1.0481, device='cuda:0', grad_fn=<MseLossBackward0>) mae: 0.82751274\n",
            "rmse: 0.9984660901198406 mse: tensor(0.9969, device='cuda:0', grad_fn=<MseLossBackward0>) mae: 0.80531263\n",
            "rmse: 1.0014462741300065 mse: tensor(1.0029, device='cuda:0', grad_fn=<MseLossBackward0>) mae: 0.7850165\n",
            "rmse: 0.9749606002280657 mse: tensor(0.9505, device='cuda:0', grad_fn=<MseLossBackward0>) mae: 0.7794514\n",
            "rmse: 1.0181338500591917 mse: tensor(1.0366, device='cuda:0', grad_fn=<MseLossBackward0>) mae: 0.807948\n",
            "rmse: 0.9568441402708969 mse: tensor(0.9156, device='cuda:0', grad_fn=<MseLossBackward0>) mae: 0.7465367\n",
            "rmse: 0.9057397392464593 mse: tensor(0.8204, device='cuda:0', grad_fn=<MseLossBackward0>) mae: 0.7122886\n",
            "rmse: 0.9524613242920448 mse: tensor(0.9072, device='cuda:0', grad_fn=<MseLossBackward0>) mae: 0.7747772\n"
          ]
        },
        {
          "output_type": "stream",
          "name": "stderr",
          "text": [
            "\r 47%|████▋     | 7/15 [08:10<09:14, 69.33s/it]"
          ]
        },
        {
          "output_type": "stream",
          "name": "stdout",
          "text": [
            "test_metrics........ rmse: 1.0128447993423926 mse: tensor(0.8923, device='cuda:0', grad_fn=<MseLossBackward0>) mae: 0.8153073\n",
            "rmse: 1.0510552485142646 mse: tensor(1.1047, device='cuda:0', grad_fn=<MseLossBackward0>) mae: 0.84675324\n",
            "rmse: 1.0386115221247938 mse: tensor(1.0787, device='cuda:0', grad_fn=<MseLossBackward0>) mae: 0.8982817\n",
            "rmse: 0.9621361800380929 mse: tensor(0.9257, device='cuda:0', grad_fn=<MseLossBackward0>) mae: 0.752511\n",
            "rmse: 0.9881519640163705 mse: tensor(0.9764, device='cuda:0', grad_fn=<MseLossBackward0>) mae: 0.7924149\n",
            "rmse: 0.980272676232364 mse: tensor(0.9609, device='cuda:0', grad_fn=<MseLossBackward0>) mae: 0.7614982\n",
            "rmse: 0.9168885388769162 mse: tensor(0.8407, device='cuda:0', grad_fn=<MseLossBackward0>) mae: 0.737911\n",
            "rmse: 1.0694720455973064 mse: tensor(1.1438, device='cuda:0', grad_fn=<MseLossBackward0>) mae: 0.9094208\n",
            "rmse: 1.09406248805796 mse: tensor(1.1970, device='cuda:0', grad_fn=<MseLossBackward0>) mae: 0.87398124\n"
          ]
        },
        {
          "output_type": "stream",
          "name": "stderr",
          "text": [
            "\r 53%|█████▎    | 8/15 [09:19<08:04, 69.15s/it]"
          ]
        },
        {
          "output_type": "stream",
          "name": "stdout",
          "text": [
            "test_metrics........ rmse: 0.9802049684753932 mse: tensor(0.9809, device='cuda:0', grad_fn=<MseLossBackward0>) mae: 0.778959\n",
            "rmse: 1.0001581186218398 mse: tensor(1.0003, device='cuda:0', grad_fn=<MseLossBackward0>) mae: 0.77473855\n",
            "rmse: 1.000052212305761 mse: tensor(1.0001, device='cuda:0', grad_fn=<MseLossBackward0>) mae: 0.77473414\n",
            "rmse: 1.0215284290624278 mse: tensor(1.0435, device='cuda:0', grad_fn=<MseLossBackward0>) mae: 0.81103647\n",
            "rmse: 0.9358397724159944 mse: tensor(0.8758, device='cuda:0', grad_fn=<MseLossBackward0>) mae: 0.73471093\n",
            "rmse: 0.9887709478674266 mse: tensor(0.9777, device='cuda:0', grad_fn=<MseLossBackward0>) mae: 0.80778354\n",
            "rmse: 0.9480625536376246 mse: tensor(0.8988, device='cuda:0', grad_fn=<MseLossBackward0>) mae: 0.7475734\n",
            "rmse: 1.0612028843426033 mse: tensor(1.1262, device='cuda:0', grad_fn=<MseLossBackward0>) mae: 0.8363641\n",
            "rmse: 0.8890254061558237 mse: tensor(0.7904, device='cuda:0', grad_fn=<MseLossBackward0>) mae: 0.70428765\n"
          ]
        },
        {
          "output_type": "stream",
          "name": "stderr",
          "text": [
            "\r 60%|██████    | 9/15 [10:27<06:54, 69.05s/it]"
          ]
        },
        {
          "output_type": "stream",
          "name": "stdout",
          "text": [
            "test_metrics........ rmse: 0.9785054828780626 mse: tensor(0.9900, device='cuda:0', grad_fn=<MseLossBackward0>) mae: 0.77273536\n",
            "rmse: 1.0532001321406415 mse: tensor(1.1092, device='cuda:0', grad_fn=<MseLossBackward0>) mae: 0.83171105\n",
            "rmse: 1.020856908928215 mse: tensor(1.0421, device='cuda:0', grad_fn=<MseLossBackward0>) mae: 0.7921904\n",
            "rmse: 0.9755130469477689 mse: tensor(0.9516, device='cuda:0', grad_fn=<MseLossBackward0>) mae: 0.7212018\n",
            "rmse: 0.9290071129480391 mse: tensor(0.8631, device='cuda:0', grad_fn=<MseLossBackward0>) mae: 0.76535267\n",
            "rmse: 0.9888597687411508 mse: tensor(0.9778, device='cuda:0', grad_fn=<MseLossBackward0>) mae: 0.7664662\n",
            "rmse: 0.9460751948281405 mse: tensor(0.8951, device='cuda:0', grad_fn=<MseLossBackward0>) mae: 0.7616433\n",
            "rmse: 1.0739759136035074 mse: tensor(1.1534, device='cuda:0', grad_fn=<MseLossBackward0>) mae: 0.8532136\n",
            "rmse: 0.8987868583453554 mse: tensor(0.8078, device='cuda:0', grad_fn=<MseLossBackward0>) mae: 0.72707087\n"
          ]
        },
        {
          "output_type": "stream",
          "name": "stderr",
          "text": [
            "\r 67%|██████▋   | 10/15 [11:36<05:44, 68.95s/it]"
          ]
        },
        {
          "output_type": "stream",
          "name": "stdout",
          "text": [
            "test_metrics........ rmse: 0.9808328871832659 mse: tensor(0.9173, device='cuda:0', grad_fn=<MseLossBackward0>) mae: 0.76272565\n",
            "rmse: 1.0062377218125258 mse: tensor(1.0125, device='cuda:0', grad_fn=<MseLossBackward0>) mae: 0.79920244\n",
            "rmse: 1.0729934640207166 mse: tensor(1.1513, device='cuda:0', grad_fn=<MseLossBackward0>) mae: 0.81331956\n",
            "rmse: 1.015884014260032 mse: tensor(1.0320, device='cuda:0', grad_fn=<MseLossBackward0>) mae: 0.80372024\n",
            "rmse: 0.9587453633660076 mse: tensor(0.9192, device='cuda:0', grad_fn=<MseLossBackward0>) mae: 0.7549231\n",
            "rmse: 0.9801928371349083 mse: tensor(0.9608, device='cuda:0', grad_fn=<MseLossBackward0>) mae: 0.7573892\n",
            "rmse: 1.0192528706356492 mse: tensor(1.0389, device='cuda:0', grad_fn=<MseLossBackward0>) mae: 0.7536282\n",
            "rmse: 0.966397659645973 mse: tensor(0.9339, device='cuda:0', grad_fn=<MseLossBackward0>) mae: 0.7702377\n",
            "rmse: 0.9346699915616824 mse: tensor(0.8736, device='cuda:0', grad_fn=<MseLossBackward0>) mae: 0.75745577\n"
          ]
        },
        {
          "output_type": "stream",
          "name": "stderr",
          "text": [
            "\r 73%|███████▎  | 11/15 [12:46<04:36, 69.19s/it]"
          ]
        },
        {
          "output_type": "stream",
          "name": "stdout",
          "text": [
            "test_metrics........ rmse: 0.9804637346481381 mse: tensor(1.2118, device='cuda:0', grad_fn=<MseLossBackward0>) mae: 0.7603486\n",
            "rmse: 0.98632051068379 mse: tensor(0.9728, device='cuda:0', grad_fn=<MseLossBackward0>) mae: 0.7887453\n",
            "rmse: 0.9717098365592024 mse: tensor(0.9442, device='cuda:0', grad_fn=<MseLossBackward0>) mae: 0.7834439\n",
            "rmse: 1.0124750440371229 mse: tensor(1.0251, device='cuda:0', grad_fn=<MseLossBackward0>) mae: 0.7780443\n",
            "rmse: 1.0401441637402553 mse: tensor(1.0819, device='cuda:0', grad_fn=<MseLossBackward0>) mae: 0.85576403\n",
            "rmse: 1.072560865546909 mse: tensor(1.1504, device='cuda:0', grad_fn=<MseLossBackward0>) mae: 0.87192845\n",
            "rmse: 0.9677722980942933 mse: tensor(0.9366, device='cuda:0', grad_fn=<MseLossBackward0>) mae: 0.753993\n",
            "rmse: 0.992321996508973 mse: tensor(0.9847, device='cuda:0', grad_fn=<MseLossBackward0>) mae: 0.801743\n",
            "rmse: 0.9414587045831885 mse: tensor(0.8863, device='cuda:0', grad_fn=<MseLossBackward0>) mae: 0.7819335\n"
          ]
        },
        {
          "output_type": "stream",
          "name": "stderr",
          "text": [
            "\r 80%|████████  | 12/15 [13:56<03:28, 69.35s/it]"
          ]
        },
        {
          "output_type": "stream",
          "name": "stdout",
          "text": [
            "test_metrics........ rmse: 0.9974170646034569 mse: tensor(1.1366, device='cuda:0', grad_fn=<MseLossBackward0>) mae: 0.80287546\n",
            "rmse: 1.0225368351352306 mse: tensor(1.0456, device='cuda:0', grad_fn=<MseLossBackward0>) mae: 0.7923988\n",
            "rmse: 1.0146912023290555 mse: tensor(1.0296, device='cuda:0', grad_fn=<MseLossBackward0>) mae: 0.82518995\n",
            "rmse: 0.9791606064196325 mse: tensor(0.9588, device='cuda:0', grad_fn=<MseLossBackward0>) mae: 0.76620585\n",
            "rmse: 0.9840473356317192 mse: tensor(0.9683, device='cuda:0', grad_fn=<MseLossBackward0>) mae: 0.80532384\n",
            "rmse: 0.9687067760545967 mse: tensor(0.9384, device='cuda:0', grad_fn=<MseLossBackward0>) mae: 0.790572\n",
            "rmse: 0.9531383826144889 mse: tensor(0.9085, device='cuda:0', grad_fn=<MseLossBackward0>) mae: 0.7791667\n",
            "rmse: 0.9938711164549983 mse: tensor(0.9878, device='cuda:0', grad_fn=<MseLossBackward0>) mae: 0.82387537\n",
            "rmse: 0.9781800568414257 mse: tensor(0.9568, device='cuda:0', grad_fn=<MseLossBackward0>) mae: 0.77881426\n"
          ]
        },
        {
          "output_type": "stream",
          "name": "stderr",
          "text": [
            "\r 87%|████████▋ | 13/15 [15:05<02:18, 69.25s/it]"
          ]
        },
        {
          "output_type": "stream",
          "name": "stdout",
          "text": [
            "test_metrics........ rmse: 0.9779724928453177 mse: tensor(0.8898, device='cuda:0', grad_fn=<MseLossBackward0>) mae: 0.7671599\n",
            "rmse: 1.0255318680623724 mse: tensor(1.0517, device='cuda:0', grad_fn=<MseLossBackward0>) mae: 0.80266845\n",
            "rmse: 1.045889490197928 mse: tensor(1.0939, device='cuda:0', grad_fn=<MseLossBackward0>) mae: 0.7921303\n",
            "rmse: 0.9698717329420347 mse: tensor(0.9407, device='cuda:0', grad_fn=<MseLossBackward0>) mae: 0.76403415\n",
            "rmse: 0.956719546257758 mse: tensor(0.9153, device='cuda:0', grad_fn=<MseLossBackward0>) mae: 0.7814892\n",
            "rmse: 1.0527797823651728 mse: tensor(1.1083, device='cuda:0', grad_fn=<MseLossBackward0>) mae: 0.8216046\n",
            "rmse: 0.8950290877128074 mse: tensor(0.8011, device='cuda:0', grad_fn=<MseLossBackward0>) mae: 0.6986102\n",
            "rmse: 0.9725988593271114 mse: tensor(0.9459, device='cuda:0', grad_fn=<MseLossBackward0>) mae: 0.759773\n",
            "rmse: 0.9829261047009339 mse: tensor(0.9661, device='cuda:0', grad_fn=<MseLossBackward0>) mae: 0.7870057\n"
          ]
        },
        {
          "output_type": "stream",
          "name": "stderr",
          "text": [
            "\r 93%|█████████▎| 14/15 [16:14<01:09, 69.19s/it]"
          ]
        },
        {
          "output_type": "stream",
          "name": "stdout",
          "text": [
            "test_metrics........ rmse: 0.9779842251030042 mse: tensor(0.8168, device='cuda:0', grad_fn=<MseLossBackward0>) mae: 0.76581174\n",
            "rmse: 0.993697301798886 mse: tensor(0.9874, device='cuda:0', grad_fn=<MseLossBackward0>) mae: 0.77286625\n",
            "rmse: 1.030491752454541 mse: tensor(1.0619, device='cuda:0', grad_fn=<MseLossBackward0>) mae: 0.8140024\n",
            "rmse: 0.9005009382943069 mse: tensor(0.8109, device='cuda:0', grad_fn=<MseLossBackward0>) mae: 0.74483204\n",
            "rmse: 0.9499118927202812 mse: tensor(0.9023, device='cuda:0', grad_fn=<MseLossBackward0>) mae: 0.7242751\n",
            "rmse: 0.9408046335438722 mse: tensor(0.8851, device='cuda:0', grad_fn=<MseLossBackward0>) mae: 0.7641009\n",
            "rmse: 1.0215392234766703 mse: tensor(1.0435, device='cuda:0', grad_fn=<MseLossBackward0>) mae: 0.79742515\n",
            "rmse: 0.993381832707486 mse: tensor(0.9868, device='cuda:0', grad_fn=<MseLossBackward0>) mae: 0.7853703\n",
            "rmse: 0.9996471974774093 mse: tensor(0.9993, device='cuda:0', grad_fn=<MseLossBackward0>) mae: 0.81527\n"
          ]
        },
        {
          "output_type": "stream",
          "name": "stderr",
          "text": [
            "100%|██████████| 15/15 [17:23<00:00, 69.57s/it]"
          ]
        },
        {
          "output_type": "stream",
          "name": "stdout",
          "text": [
            "test_metrics........ rmse: 1.003893959771711 mse: tensor(1.0954, device='cuda:0', grad_fn=<MseLossBackward0>) mae: 0.8085241\n"
          ]
        },
        {
          "output_type": "stream",
          "name": "stderr",
          "text": [
            "\n"
          ]
        }
      ],
      "source": [
        "trained_MLP_model = MLP_train(data_loader,MLP_model,test_users,test_items,test_ratings)"
      ]
    },
    {
      "cell_type": "code",
      "source": [
        "MSE_list = [c.cpu().detach().numpy() for c in MSE_list]\n",
        "plt.figure(figsize=(10,10))\n",
        "x = list(range(1,(len(MAE_list)+1))) \n",
        "plt.plot(x,MAE_list,label='MAE')\n",
        "plt.plot(x,MSE_list,label='MSE Loss')\n",
        "plt.plot(x,RMSE_list,label='RMSE')\n",
        "plt.legend()\n",
        "# plt.show()\n",
        "plt.savefig('ncf_64.png')"
      ],
      "metadata": {
        "colab": {
          "base_uri": "https://localhost:8080/",
          "height": 592
        },
        "id": "4qGE0lkpbLWC",
        "outputId": "37be4771-cf5c-417f-c22a-83c23f5e6d7a"
      },
      "id": "4qGE0lkpbLWC",
      "execution_count": null,
      "outputs": [
        {
          "output_type": "display_data",
          "data": {
            "text/plain": [
              "<Figure size 720x720 with 1 Axes>"
            ],
            "image/png": "[encoded data removed]"
          },
          "metadata": {
            "needs_background": "light"
          }
        }
      ]
    },
    {
      "cell_type": "code",
      "source": [
        "torch.save(trained_MLP_model,'/content/drive/MyDrive/6240_project/project_data/ncf_model_64')"
      ],
      "metadata": {
        "id": "3vkPiXZhv7tE",
        "colab": {
          "base_uri": "https://localhost:8080/",
          "height": 164
        },
        "outputId": "ff58b38b-fe74-4800-9c3b-fea5922bea9e"
      },
      "id": "3vkPiXZhv7tE",
      "execution_count": null,
      "outputs": [
        {
          "output_type": "error",
          "ename": "NameError",
          "evalue": "ignored",
          "traceback": [
            "\u001b[0;31m---------------------------------------------------------------------------\u001b[0m",
            "\u001b[0;31mNameError\u001b[0m                                 Traceback (most recent call last)",
            "\u001b[0;32m<ipython-input-1-38c053e7da56>\u001b[0m in \u001b[0;36m<module>\u001b[0;34m()\u001b[0m\n\u001b[0;32m----> 1\u001b[0;31m \u001b[0mtorch\u001b[0m\u001b[0;34m.\u001b[0m\u001b[0msave\u001b[0m\u001b[0;34m(\u001b[0m\u001b[0mtrained_MLP_model\u001b[0m\u001b[0;34m,\u001b[0m\u001b[0;34m'/content/drive/MyDrive/6240_project/project_data/ncf_model_64'\u001b[0m\u001b[0;34m)\u001b[0m\u001b[0;34m\u001b[0m\u001b[0;34m\u001b[0m\u001b[0m\n\u001b[0m",
            "\u001b[0;31mNameError\u001b[0m: name 'torch' is not defined"
          ]
        }
      ]
    },
    {
      "cell_type": "code",
      "source": [
        "# 32 test_metrics........ rmse: 0.9779439691590593 mse: tensor(0.9189, device='cuda:0', grad_fn=<MseLossBackward0>) mae: 0.7617227\n",
        "# 64 test_metrics........ rmse: 1.003893959771711 mse: tensor(1.0954, device='cuda:0', grad_fn=<MseLossBackward0>) mae: 0.8085241\n"
      ],
      "metadata": {
        "id": "cwQpQLWOdGk2"
      },
      "id": "cwQpQLWOdGk2",
      "execution_count": null,
      "outputs": []
    }
  ],
  "metadata": {
    "kernelspec": {
      "display_name": "Python 3",
      "language": "python",
      "name": "python3"
    },
    "language_info": {
      "codemirror_mode": {
        "name": "ipython",
        "version": 3
      },
      "file_extension": ".py",
      "mimetype": "text/x-python",
      "name": "python",
      "nbconvert_exporter": "python",
      "pygments_lexer": "ipython3",
      "version": "3.8.8"
    },
    "colab": {
      "name": "neumf.ipynb",
      "provenance": [],
      "collapsed_sections": []
    },
    "accelerator": "GPU"
  },
  "nbformat": 4,
  "nbformat_minor": 5
} 
